{
 "cells": [
  {
   "attachments": {},
   "cell_type": "markdown",
   "metadata": {},
   "source": [
    "## Deadlines:\n",
    "- Project report: 28.05.2023, 23:59\n",
    "- Presentation: 31.05.2023\n",
    "- small changes"
   ]
  },
  {
   "attachments": {},
   "cell_type": "markdown",
   "metadata": {},
   "source": [
    "## General to-do list:"
   ]
  },
  {
   "attachments": {},
   "cell_type": "markdown",
   "metadata": {},
   "source": [
    "- [ ] keep track of the values of evaluation metrics (Excel spreadsheet)"
   ]
  },
  {
   "attachments": {},
   "cell_type": "markdown",
   "metadata": {},
   "source": [
    "- [ ] to go through TO-DO-s in the code and fix it"
   ]
  },
  {
   "attachments": {},
   "cell_type": "markdown",
   "metadata": {},
   "source": [
    "- [ ] documentation: leave comments in the notebook"
   ]
  },
  {
   "attachments": {},
   "cell_type": "markdown",
   "metadata": {},
   "source": [
    "- [ ] select the date to attend a coaching session + send an email to the tutors about it"
   ]
  },
  {
   "attachments": {},
   "cell_type": "markdown",
   "metadata": {},
   "source": [
    "- [ ] check out the 'helper' notebook here: https://www.kaggle.com/code/durgancegaur/a-guide-to-any-classification-problem "
   ]
  },
  {
   "attachments": {},
   "cell_type": "markdown",
   "metadata": {},
   "source": [
    "- [ ] Compare results with other notebooks"
   ]
  },
  {
   "attachments": {},
   "cell_type": "markdown",
   "metadata": {},
   "source": [
    "## Code-related to-do list:"
   ]
  },
  {
   "attachments": {},
   "cell_type": "markdown",
   "metadata": {},
   "source": [
    "- [ ] add box plots for identifying outliers"
   ]
  },
  {
   "attachments": {},
   "cell_type": "markdown",
   "metadata": {},
   "source": [
    "- [ ] hyperparameter optimization (e.g. max depth in decision tree)"
   ]
  },
  {
   "attachments": {},
   "cell_type": "markdown",
   "metadata": {},
   "source": [
    "- [ ] cross-validation"
   ]
  },
  {
   "attachments": {},
   "cell_type": "markdown",
   "metadata": {},
   "source": [
    "- [ ] add cost matrix or think about other way to punish false negatives (e.g. look at medical scientific papers)"
   ]
  },
  {
   "attachments": {},
   "cell_type": "markdown",
   "metadata": {},
   "source": [
    "- [ ] add boosted trees (XGBoost\n",
    ", GBM, LightGBM) https://scikit-learn.org/stable/modules/generated/sklearn.ensemble.GradientBoostingClassifier.html"
   ]
  },
  {
   "attachments": {},
   "cell_type": "markdown",
   "metadata": {},
   "source": [
    "- [ ] search for some 'official' guidelines for diagnosing diabetes and comparing our best model logic to these guidelines. See: https://www.diabetes.org.uk/professionals/position-statements-reports/diagnosis-ongoing-management-monitoring/new_diagnostic_criteria_for_diabetes"
   ]
  },
  {
   "attachments": {},
   "cell_type": "markdown",
   "metadata": {},
   "source": [
    "- [ ] think about how to deal with medical features (e.g. glucose level, etc.): maybe binning/encoding (e.g. separate values for level which is normal, lower, higher than norm)"
   ]
  },
  {
   "attachments": {},
   "cell_type": "markdown",
   "metadata": {},
   "source": [
    "Normal : HbA1C (5.7%> x >6.5%), Blood Glucose (fasting) (99 > x > 126 mg/dL)t"
   ]
  },
  {
   "attachments": {},
   "cell_type": "markdown",
   "metadata": {},
   "source": [
    "- [ ] Clusters - Type 1 and Type 2 diabetes. We (the dataset) do not differentiate Type1 and Type2. We could try to build clusters and make assumptions/possible interpretations of which type the clusters could be"
   ]
  },
  {
   "attachments": {},
   "cell_type": "markdown",
   "metadata": {},
   "source": [
    "- [ ] understand the preprocessing in FastAI neural network and try it out for other models AND apply our own preprocessing to this neural network model"
   ]
  },
  {
   "attachments": {},
   "cell_type": "markdown",
   "metadata": {},
   "source": [
    "## Structure of the notebook:"
   ]
  },
  {
   "attachments": {},
   "cell_type": "markdown",
   "metadata": {},
   "source": [
    "undefined. Exploratory Data Analysis"
   ]
  },
  {
   "attachments": {},
   "cell_type": "markdown",
   "metadata": {},
   "source": [
    "- data metrics"
   ]
  },
  {
   "attachments": {},
   "cell_type": "markdown",
   "metadata": {},
   "source": [
    "- distributions of attributes (maybe from the helper notebook, experiment with bin width)"
   ]
  },
  {
   "attachments": {},
   "cell_type": "markdown",
   "metadata": {},
   "source": [
    "- correlation? (what we would do with the result of correlation analysis? are we going to conduct feature relevance evaluation? by the way, in the report we could say that in case of a very high correlation we would consider to remove one of such features to avoid collinearity)"
   ]
  },
  {
   "attachments": {},
   "cell_type": "markdown",
   "metadata": {},
   "source": [
    "- box plots for identifying outliers (in the helper notebook) - maybe violin plots?"
   ]
  },
  {
   "attachments": {},
   "cell_type": "markdown",
   "metadata": {},
   "source": [
    "2. Preprocessing"
   ]
  },
  {
   "attachments": {},
   "cell_type": "markdown",
   "metadata": {},
   "source": [
    "- Handle missing values (probably exclude such entries. In the paper we could also discuss the approach with median/mean). If we don't exclude -> using univariate imputation (mean/median/mode) would be more appropriate than multivariate imputation (model feature 'smoking_history' as a function of other features - makes no sense for our dataset). In KNN -> check KNNImputer"
   ]
  },
  {
   "attachments": {},
   "cell_type": "markdown",
   "metadata": {},
   "source": [
    "- encoding (for the ’gender’ feature we will create a new attribute for every distinct value, while in case of the ’smoking history’ we might use the ordinal encoder - unlike gender, the heaviness of the smoking habit could be represented with ordinal values)"
   ]
  },
  {
   "attachments": {},
   "cell_type": "markdown",
   "metadata": {},
   "source": [
    "- Handle outliers. Mainly outlier in age -> we could omit it."
   ]
  },
  {
   "attachments": {},
   "cell_type": "markdown",
   "metadata": {},
   "source": [
    "- normalisation (try both MinMaxScaler and StandardScaler) (e.g. using binning - see DM_Exercise_3, MinMaxScaler, please refer to exercise 02)"
   ]
  },
  {
   "attachments": {},
   "cell_type": "markdown",
   "metadata": {},
   "source": [
    "- Split data: train and test (balance training data) - use stratified c-v (https://www.kaggle.com/code/mohamedkhaled2007/diabetes-prediction-mkma-stack?scriptVersionId=125802796&cellId=21)"
   ]
  },
  {
   "attachments": {},
   "cell_type": "markdown",
   "metadata": {},
   "source": [
    "- balancing (DM_Ex_4) (The  approaches  we  consider  are:  to  use oversampling technique, to use under sampling, maybe combined approach, or stratified sampling in c-val)"
   ]
  },
  {
   "attachments": {},
   "cell_type": "markdown",
   "metadata": {},
   "source": [
    "3. Models"
   ]
  },
  {
   "attachments": {},
   "cell_type": "markdown",
   "metadata": {},
   "source": [
    "- Stratified cross-validation (DM_Ex_4)"
   ]
  },
  {
   "attachments": {},
   "cell_type": "markdown",
   "metadata": {},
   "source": [
    "- hyperparameter tuning (Grid search) (DM_Ex_5 provides a nice example of both hyper parameter tuning and cross-val)"
   ]
  },
  {
   "attachments": {},
   "cell_type": "markdown",
   "metadata": {},
   "source": [
    "- Logistic regression - https://www.kaggle.com/code/funxexcel/p2-logistic-regression-hyperparameter-tuning"
   ]
  },
  {
   "attachments": {},
   "cell_type": "markdown",
   "metadata": {},
   "source": [
    "- KNN - handling missing values with KNNImputer (mean of the K nearest neighbors)"
   ]
  },
  {
   "attachments": {},
   "cell_type": "markdown",
   "metadata": {},
   "source": [
    "- Naive-Bayes?"
   ]
  },
  {
   "attachments": {},
   "cell_type": "markdown",
   "metadata": {},
   "source": [
    "- Decision tree"
   ]
  },
  {
   "attachments": {},
   "cell_type": "markdown",
   "metadata": {},
   "source": [
    "- Random forests "
   ]
  },
  {
   "attachments": {},
   "cell_type": "markdown",
   "metadata": {},
   "source": [
    "- XGBoost (maybe some others?)"
   ]
  },
  {
   "attachments": {},
   "cell_type": "markdown",
   "metadata": {},
   "source": [
    "- SVM"
   ]
  },
  {
   "attachments": {},
   "cell_type": "markdown",
   "metadata": {},
   "source": [
    "- Neural networks - https://www.kaggle.com/code/ishantgargml/diabetes-prediction-96-99-accuracy-ann (to justify the use of particular neural network types)"
   ]
  },
  {
   "attachments": {},
   "cell_type": "markdown",
   "metadata": {},
   "source": [
    "4. Evaluation"
   ]
  },
  {
   "attachments": {},
   "cell_type": "markdown",
   "metadata": {},
   "source": [
    "- Confusion matrix"
   ]
  },
  {
   "attachments": {},
   "cell_type": "markdown",
   "metadata": {},
   "source": [
    "- Accuracy, precision, recall"
   ]
  },
  {
   "attachments": {},
   "cell_type": "markdown",
   "metadata": {},
   "source": [
    "- ROC Curve + AUC (one graph with ROC curves for each model)"
   ]
  },
  {
   "attachments": {},
   "cell_type": "markdown",
   "metadata": {},
   "source": [
    "- cost-based evaluation (DM_Ex_5). Look up other data science projects/research papers on medical data - how do they assign weights. Which unit of measure?"
   ]
  },
  {
   "attachments": {},
   "cell_type": "markdown",
   "metadata": {},
   "source": [
    "- make a table summarising&comparing the results of all the estimators"
   ]
  },
  {
   "attachments": {},
   "cell_type": "markdown",
   "metadata": {},
   "source": [
    "- Log loss? (maybe there is no point because decision trees and random forests typically do not output class probabilities, and so log loss cannot be used with these models, ergo, we won't be able to compare them with other models using this metrics)"
   ]
  },
  {
   "attachments": {},
   "cell_type": "markdown",
   "metadata": {},
   "source": [
    "Questions:"
   ]
  },
  {
   "attachments": {},
   "cell_type": "markdown",
   "metadata": {},
   "source": [
    "- When we should and should not apply the same preprocessing to the test data, should we also apply balancing techniques? We were told not to touch the test data but in DM_Exercise_3 we read: \"If we want to evaluate our model on a second dataset, we must take care to apply the same preprocessing as we did for the training\""
   ]
  },
  {
   "attachments": {},
   "cell_type": "markdown",
   "metadata": {},
   "source": [
    "- handling missing values: exclude -> use ordinal encoder or leave it as it is -> use one hot encoder"
   ]
  },
  {
   "attachments": {},
   "cell_type": "markdown",
   "metadata": {},
   "source": [
    "- could stratified c-val go in combination with oversampling"
   ]
  },
  {
   "attachments": {},
   "cell_type": "markdown",
   "metadata": {},
   "source": [
    "- could we do slightly different preprocessing for different estimators (e.g. we would do KNNImputer for KNN and a different technique for other estimators)?"
   ]
  },
  {
   "attachments": {},
   "cell_type": "markdown",
   "metadata": {},
   "source": [
    "# Exploratory Data Analysis"
   ]
  },
  {
   "attachments": {},
   "cell_type": "markdown",
   "metadata": {},
   "source": [
    "## Load data and glimpse at it"
   ]
  },
  {
   "cell_type": "code",
   "execution_count": 203,
   "metadata": {},
   "outputs": [],
   "source": [
    "import pandas as pd\n",
    "import seaborn as sns\n",
    "import itertools\n",
    "import matplotlib.pyplot as plt\n",
    "import numpy as np\n"
   ]
  },
  {
   "attachments": {},
   "cell_type": "markdown",
   "metadata": {},
   "source": [
    "Helper function from exercise 5"
   ]
  },
  {
   "cell_type": "code",
   "execution_count": 204,
   "metadata": {},
   "outputs": [],
   "source": [
    "def plot_confusion_matrix(\n",
    "    cm, classes, normalize=False, title=\"Confusion matrix\", cmap=plt.cm.Blues\n",
    "):\n",
    "    \"\"\"\n",
    "    This function prints and plots the confusion matrix.\n",
    "    Normalization can be applied by setting `normalize=True`.\n",
    "    \"\"\"\n",
    "    if normalize:\n",
    "        cm = cm.astype(\"float\") / cm.sum(axis=1)[:, np.newaxis]\n",
    "\n",
    "    plt.imshow(cm, interpolation=\"nearest\", cmap=cmap)\n",
    "    plt.title(title)\n",
    "    plt.colorbar()\n",
    "    tick_marks = np.arange(len(classes))\n",
    "    plt.xticks(tick_marks, classes, rotation=45)\n",
    "    plt.yticks(tick_marks, classes)\n",
    "\n",
    "    fmt = \".2f\" if normalize else \"d\"\n",
    "    thresh = cm.max() / 2.0\n",
    "    for i, j in itertools.product(range(cm.shape[0]), range(cm.shape[1])):\n",
    "        plt.text(\n",
    "            j,\n",
    "            i,\n",
    "            format(cm[i, j], fmt),\n",
    "            horizontalalignment=\"center\",\n",
    "            color=\"white\" if cm[i, j] > thresh else \"black\",\n",
    "        )\n",
    "\n",
    "    plt.ylabel(\"True label\")\n",
    "    plt.xlabel(\"Predicted label\")\n",
    "    plt.tight_layout()"
   ]
  },
  {
   "cell_type": "code",
   "execution_count": 205,
   "metadata": {},
   "outputs": [],
   "source": [
    "# Load dataset\n",
    "df = pd.read_csv(\"diabetes_prediction_dataset.csv\")"
   ]
  },
  {
   "attachments": {},
   "cell_type": "markdown",
   "metadata": {},
   "source": [
    "### Univariate exploration"
   ]
  },
  {
   "cell_type": "code",
   "execution_count": 206,
   "metadata": {},
   "outputs": [
    {
     "data": {
      "text/plain": [
       "3854"
      ]
     },
     "execution_count": 206,
     "metadata": {},
     "output_type": "execute_result"
    }
   ],
   "source": [
    "df.duplicated().sum()"
   ]
  },
  {
   "cell_type": "code",
   "execution_count": 207,
   "metadata": {},
   "outputs": [
    {
     "data": {
      "text/html": [
       "<div>\n",
       "<style scoped>\n",
       "    .dataframe tbody tr th:only-of-type {\n",
       "        vertical-align: middle;\n",
       "    }\n",
       "\n",
       "    .dataframe tbody tr th {\n",
       "        vertical-align: top;\n",
       "    }\n",
       "\n",
       "    .dataframe thead th {\n",
       "        text-align: right;\n",
       "    }\n",
       "</style>\n",
       "<table border=\"1\" class=\"dataframe\">\n",
       "  <thead>\n",
       "    <tr style=\"text-align: right;\">\n",
       "      <th></th>\n",
       "      <th>gender</th>\n",
       "      <th>age</th>\n",
       "      <th>hypertension</th>\n",
       "      <th>heart_disease</th>\n",
       "      <th>smoking_history</th>\n",
       "      <th>bmi</th>\n",
       "      <th>HbA1c_level</th>\n",
       "      <th>blood_glucose_level</th>\n",
       "      <th>diabetes</th>\n",
       "    </tr>\n",
       "  </thead>\n",
       "  <tbody>\n",
       "    <tr>\n",
       "      <th>0</th>\n",
       "      <td>Female</td>\n",
       "      <td>80.0</td>\n",
       "      <td>0</td>\n",
       "      <td>1</td>\n",
       "      <td>never</td>\n",
       "      <td>25.19</td>\n",
       "      <td>6.6</td>\n",
       "      <td>140</td>\n",
       "      <td>0</td>\n",
       "    </tr>\n",
       "    <tr>\n",
       "      <th>1</th>\n",
       "      <td>Female</td>\n",
       "      <td>54.0</td>\n",
       "      <td>0</td>\n",
       "      <td>0</td>\n",
       "      <td>No Info</td>\n",
       "      <td>27.32</td>\n",
       "      <td>6.6</td>\n",
       "      <td>80</td>\n",
       "      <td>0</td>\n",
       "    </tr>\n",
       "    <tr>\n",
       "      <th>2</th>\n",
       "      <td>Male</td>\n",
       "      <td>28.0</td>\n",
       "      <td>0</td>\n",
       "      <td>0</td>\n",
       "      <td>never</td>\n",
       "      <td>27.32</td>\n",
       "      <td>5.7</td>\n",
       "      <td>158</td>\n",
       "      <td>0</td>\n",
       "    </tr>\n",
       "    <tr>\n",
       "      <th>3</th>\n",
       "      <td>Female</td>\n",
       "      <td>36.0</td>\n",
       "      <td>0</td>\n",
       "      <td>0</td>\n",
       "      <td>current</td>\n",
       "      <td>23.45</td>\n",
       "      <td>5.0</td>\n",
       "      <td>155</td>\n",
       "      <td>0</td>\n",
       "    </tr>\n",
       "    <tr>\n",
       "      <th>4</th>\n",
       "      <td>Male</td>\n",
       "      <td>76.0</td>\n",
       "      <td>1</td>\n",
       "      <td>1</td>\n",
       "      <td>current</td>\n",
       "      <td>20.14</td>\n",
       "      <td>4.8</td>\n",
       "      <td>155</td>\n",
       "      <td>0</td>\n",
       "    </tr>\n",
       "  </tbody>\n",
       "</table>\n",
       "</div>"
      ],
      "text/plain": [
       "   gender   age  hypertension  heart_disease smoking_history    bmi  \\\n",
       "0  Female  80.0             0              1           never  25.19   \n",
       "1  Female  54.0             0              0         No Info  27.32   \n",
       "2    Male  28.0             0              0           never  27.32   \n",
       "3  Female  36.0             0              0         current  23.45   \n",
       "4    Male  76.0             1              1         current  20.14   \n",
       "\n",
       "   HbA1c_level  blood_glucose_level  diabetes  \n",
       "0          6.6                  140         0  \n",
       "1          6.6                   80         0  \n",
       "2          5.7                  158         0  \n",
       "3          5.0                  155         0  \n",
       "4          4.8                  155         0  "
      ]
     },
     "execution_count": 207,
     "metadata": {},
     "output_type": "execute_result"
    }
   ],
   "source": [
    "# show the first 5 rows test again\n",
    "df.head()"
   ]
  },
  {
   "cell_type": "code",
   "execution_count": 208,
   "metadata": {},
   "outputs": [
    {
     "data": {
      "text/plain": [
       "gender                  object\n",
       "age                    float64\n",
       "hypertension             int64\n",
       "heart_disease            int64\n",
       "smoking_history         object\n",
       "bmi                    float64\n",
       "HbA1c_level            float64\n",
       "blood_glucose_level      int64\n",
       "diabetes                 int64\n",
       "dtype: object"
      ]
     },
     "execution_count": 208,
     "metadata": {},
     "output_type": "execute_result"
    }
   ],
   "source": [
    "# show data types of the dataset\n",
    "df.dtypes\n"
   ]
  },
  {
   "cell_type": "code",
   "execution_count": 209,
   "metadata": {},
   "outputs": [
    {
     "data": {
      "text/html": [
       "<div>\n",
       "<style scoped>\n",
       "    .dataframe tbody tr th:only-of-type {\n",
       "        vertical-align: middle;\n",
       "    }\n",
       "\n",
       "    .dataframe tbody tr th {\n",
       "        vertical-align: top;\n",
       "    }\n",
       "\n",
       "    .dataframe thead th {\n",
       "        text-align: right;\n",
       "    }\n",
       "</style>\n",
       "<table border=\"1\" class=\"dataframe\">\n",
       "  <thead>\n",
       "    <tr style=\"text-align: right;\">\n",
       "      <th></th>\n",
       "      <th>age</th>\n",
       "      <th>hypertension</th>\n",
       "      <th>heart_disease</th>\n",
       "      <th>bmi</th>\n",
       "      <th>HbA1c_level</th>\n",
       "      <th>blood_glucose_level</th>\n",
       "      <th>diabetes</th>\n",
       "    </tr>\n",
       "  </thead>\n",
       "  <tbody>\n",
       "    <tr>\n",
       "      <th>count</th>\n",
       "      <td>100000.000000</td>\n",
       "      <td>100000.00000</td>\n",
       "      <td>100000.000000</td>\n",
       "      <td>100000.000000</td>\n",
       "      <td>100000.000000</td>\n",
       "      <td>100000.000000</td>\n",
       "      <td>100000.000000</td>\n",
       "    </tr>\n",
       "    <tr>\n",
       "      <th>mean</th>\n",
       "      <td>41.885856</td>\n",
       "      <td>0.07485</td>\n",
       "      <td>0.039420</td>\n",
       "      <td>27.320767</td>\n",
       "      <td>5.527507</td>\n",
       "      <td>138.058060</td>\n",
       "      <td>0.085000</td>\n",
       "    </tr>\n",
       "    <tr>\n",
       "      <th>std</th>\n",
       "      <td>22.516840</td>\n",
       "      <td>0.26315</td>\n",
       "      <td>0.194593</td>\n",
       "      <td>6.636783</td>\n",
       "      <td>1.070672</td>\n",
       "      <td>40.708136</td>\n",
       "      <td>0.278883</td>\n",
       "    </tr>\n",
       "    <tr>\n",
       "      <th>min</th>\n",
       "      <td>0.080000</td>\n",
       "      <td>0.00000</td>\n",
       "      <td>0.000000</td>\n",
       "      <td>10.010000</td>\n",
       "      <td>3.500000</td>\n",
       "      <td>80.000000</td>\n",
       "      <td>0.000000</td>\n",
       "    </tr>\n",
       "    <tr>\n",
       "      <th>25%</th>\n",
       "      <td>24.000000</td>\n",
       "      <td>0.00000</td>\n",
       "      <td>0.000000</td>\n",
       "      <td>23.630000</td>\n",
       "      <td>4.800000</td>\n",
       "      <td>100.000000</td>\n",
       "      <td>0.000000</td>\n",
       "    </tr>\n",
       "    <tr>\n",
       "      <th>50%</th>\n",
       "      <td>43.000000</td>\n",
       "      <td>0.00000</td>\n",
       "      <td>0.000000</td>\n",
       "      <td>27.320000</td>\n",
       "      <td>5.800000</td>\n",
       "      <td>140.000000</td>\n",
       "      <td>0.000000</td>\n",
       "    </tr>\n",
       "    <tr>\n",
       "      <th>75%</th>\n",
       "      <td>60.000000</td>\n",
       "      <td>0.00000</td>\n",
       "      <td>0.000000</td>\n",
       "      <td>29.580000</td>\n",
       "      <td>6.200000</td>\n",
       "      <td>159.000000</td>\n",
       "      <td>0.000000</td>\n",
       "    </tr>\n",
       "    <tr>\n",
       "      <th>max</th>\n",
       "      <td>80.000000</td>\n",
       "      <td>1.00000</td>\n",
       "      <td>1.000000</td>\n",
       "      <td>95.690000</td>\n",
       "      <td>9.000000</td>\n",
       "      <td>300.000000</td>\n",
       "      <td>1.000000</td>\n",
       "    </tr>\n",
       "  </tbody>\n",
       "</table>\n",
       "</div>"
      ],
      "text/plain": [
       "                 age  hypertension  heart_disease            bmi  \\\n",
       "count  100000.000000  100000.00000  100000.000000  100000.000000   \n",
       "mean       41.885856       0.07485       0.039420      27.320767   \n",
       "std        22.516840       0.26315       0.194593       6.636783   \n",
       "min         0.080000       0.00000       0.000000      10.010000   \n",
       "25%        24.000000       0.00000       0.000000      23.630000   \n",
       "50%        43.000000       0.00000       0.000000      27.320000   \n",
       "75%        60.000000       0.00000       0.000000      29.580000   \n",
       "max        80.000000       1.00000       1.000000      95.690000   \n",
       "\n",
       "         HbA1c_level  blood_glucose_level       diabetes  \n",
       "count  100000.000000        100000.000000  100000.000000  \n",
       "mean        5.527507           138.058060       0.085000  \n",
       "std         1.070672            40.708136       0.278883  \n",
       "min         3.500000            80.000000       0.000000  \n",
       "25%         4.800000           100.000000       0.000000  \n",
       "50%         5.800000           140.000000       0.000000  \n",
       "75%         6.200000           159.000000       0.000000  \n",
       "max         9.000000           300.000000       1.000000  "
      ]
     },
     "execution_count": 209,
     "metadata": {},
     "output_type": "execute_result"
    }
   ],
   "source": [
    "# show summary of the dataset\n",
    "df.describe()\n"
   ]
  },
  {
   "cell_type": "code",
   "execution_count": 210,
   "metadata": {},
   "outputs": [
    {
     "data": {
      "image/png": "[encoded data removed]",
      "text/plain": [
       "<Figure size 1000x800 with 9 Axes>"
      ]
     },
     "metadata": {},
     "output_type": "display_data"
    }
   ],
   "source": [
    "# show histogram of attributes (should we show this here or after encoding the gender?) // a\n",
    "\n",
    "df.hist(figsize=(10, 8))\n",
    "plt.show()\n"
   ]
  },
  {
   "attachments": {},
   "cell_type": "markdown",
   "metadata": {},
   "source": [
    "#### Identify Missing Values"
   ]
  },
  {
   "cell_type": "code",
   "execution_count": 211,
   "metadata": {},
   "outputs": [
    {
     "name": "stdout",
     "output_type": "stream",
     "text": [
      "gender                 0\n",
      "age                    0\n",
      "hypertension           0\n",
      "heart_disease          0\n",
      "smoking_history        0\n",
      "bmi                    0\n",
      "HbA1c_level            0\n",
      "blood_glucose_level    0\n",
      "diabetes               0\n",
      "dtype: int64\n",
      "No info in smoking history:  35816\n"
     ]
    }
   ],
   "source": [
    "missing_values_count = (\n",
    "    df.isna().sum()\n",
    ")  # TO-DO: deal with missing values in 'smoking history' /\"no info\"\n",
    "print(missing_values_count)\n",
    "\n",
    "# No info in smoking history is also considered as missing value\n",
    "missing_smoking = df[\"smoking_history\"].value_counts()[\"No Info\"]\n",
    "print(\"No info in smoking history: \", missing_smoking)\n"
   ]
  },
  {
   "attachments": {},
   "cell_type": "markdown",
   "metadata": {},
   "source": [
    "#### Imbalanced classes"
   ]
  },
  {
   "attachments": {},
   "cell_type": "markdown",
   "metadata": {},
   "source": [
    "See how imbalance the data is"
   ]
  },
  {
   "cell_type": "code",
   "execution_count": 212,
   "metadata": {},
   "outputs": [
    {
     "name": "stdout",
     "output_type": "stream",
     "text": [
      "0    91500\n",
      "1     8500\n",
      "Name: diabetes, dtype: int64\n"
     ]
    }
   ],
   "source": [
    "freq_table = df[\"diabetes\"].value_counts()\n",
    "print(freq_table)"
   ]
  },
  {
   "cell_type": "code",
   "execution_count": 213,
   "metadata": {},
   "outputs": [
    {
     "data": {
      "text/plain": [
       "<Axes: xlabel='diabetes', ylabel='count'>"
      ]
     },
     "execution_count": 213,
     "metadata": {},
     "output_type": "execute_result"
    },
    {
     "data": {
      "image/png": "[encoded data removed]",
      "text/plain": [
       "<Figure size 640x480 with 1 Axes>"
      ]
     },
     "metadata": {},
     "output_type": "display_data"
    }
   ],
   "source": [
    "sns.countplot(data=df, x=\"diabetes\")"
   ]
  },
  {
   "attachments": {},
   "cell_type": "markdown",
   "metadata": {},
   "source": [
    "#### Bivariate exploration"
   ]
  },
  {
   "cell_type": "code",
   "execution_count": 214,
   "metadata": {},
   "outputs": [
    {
     "name": "stderr",
     "output_type": "stream",
     "text": [
      "/var/folders/72/sfv07sqs6yx02sknhjkgfkcm0000gn/T/ipykernel_94357/2132396186.py:2: FutureWarning: The default value of numeric_only in DataFrame.corr is deprecated. In a future version, it will default to False. Select only valid columns or specify the value of numeric_only to silence this warning.\n",
      "  corr_matrix = df.corr()\n"
     ]
    },
    {
     "data": {
      "image/png": "[encoded data removed]",
      "text/plain": [
       "<Figure size 640x480 with 2 Axes>"
      ]
     },
     "metadata": {},
     "output_type": "display_data"
    }
   ],
   "source": [
    "# compute the correlation matrix\n",
    "corr_matrix = df.corr()\n",
    "\n",
    "# plot the correlation matrix\n",
    "sns.heatmap(corr_matrix, annot=True, cmap=\"Blues\")\n",
    "plt.show()"
   ]
  },
  {
   "attachments": {},
   "cell_type": "markdown",
   "metadata": {},
   "source": [
    "### Cross-Validation "
   ]
  },
  {
   "cell_type": "code",
   "execution_count": null,
   "metadata": {},
   "outputs": [],
   "source": []
  },
  {
   "attachments": {},
   "cell_type": "markdown",
   "metadata": {},
   "source": [
    "### Identifying Outlier"
   ]
  },
  {
   "cell_type": "code",
   "execution_count": 215,
   "metadata": {},
   "outputs": [],
   "source": [
    "# # Identify Outlier using boxplot\n",
    "# # Values/attributes should be encoded first (?) // a\n",
    "# plt.figure(figsize=(15,10))\n",
    "# for i,col in enumerate(df.columns,1):\n",
    "#     plt.subplot(4,3,i)\n",
    "#     plt.title(f\"Distribution of {col} Data\")\n",
    "#     sns.boxplot(df[col])\n",
    "#     plt.tight_layout()\n",
    "#     plt.plot()"
   ]
  },
  {
   "attachments": {},
   "cell_type": "markdown",
   "metadata": {},
   "source": [
    "# Preprocessing"
   ]
  },
  {
   "attachments": {},
   "cell_type": "markdown",
   "metadata": {},
   "source": [
    "## Baseline"
   ]
  },
  {
   "cell_type": "code",
   "execution_count": 216,
   "metadata": {},
   "outputs": [],
   "source": [
    "from imblearn.pipeline import Pipeline\n",
    "from imblearn.over_sampling import RandomOverSampler\n",
    "from sklearn import preprocessing\n",
    "from sklearn.preprocessing import StandardScaler\n",
    "from sklearn.preprocessing import LabelEncoder\n",
    "\n",
    "from sklearn.metrics import (\n",
    "    classification_report,\n",
    "    accuracy_score,\n",
    "    confusion_matrix,\n",
    "    f1_score,\n",
    "    precision_score,\n",
    "    recall_score,\n",
    "    roc_auc_score,\n",
    ")\n",
    "from sklearn.tree import DecisionTreeClassifier\n",
    "from sklearn.compose import ColumnTransformer\n",
    "from sklearn.model_selection import cross_val_predict\n"
   ]
  },
  {
   "cell_type": "code",
   "execution_count": 217,
   "metadata": {},
   "outputs": [],
   "source": [
    "numeric_features = [\n",
    "    \"age\",\n",
    "    \"hypertension\",\n",
    "    \"heart_disease\",\n",
    "    \"bmi\",\n",
    "    \"HbA1c_level\",\n",
    "    \"blood_glucose_level\",\n",
    "]\n",
    "\n",
    "preprocessor = ColumnTransformer(\n",
    "    transformers=[\n",
    "        (\"num\", StandardScaler(), numeric_features),\n",
    "    ]\n",
    ")\n",
    "\n",
    "pipeline = Pipeline(\n",
    "    [\n",
    "        (\"preprocessing\", preprocessor),\n",
    "        (\"balancing\", RandomOverSampler()),\n",
    "        (\"estimator\", DecisionTreeClassifier(max_depth=7, random_state=42)),\n",
    "    ]\n",
    ")\n",
    "\n",
    "# Prepare data\n",
    "X = df.drop(\"diabetes\", axis=1)\n",
    "y = df[\"diabetes\"]\n",
    "\n",
    "# Prepare target labels\n",
    "# labeler = LabelEncoder()\n",
    "# labeler.fit(y)\n",
    "# y = labeler.transform(y)\n",
    "# label_names = [\"Negative\", \"Positive\"]\n",
    "# label_order = [0, 1]\n",
    "\n",
    "# Split the data into training and test sets\n",
    "from sklearn.model_selection import train_test_split\n",
    "\n",
    "X_train, X_test, y_train, y_test = train_test_split(\n",
    "    X, y, test_size=0.2, stratify=y, random_state=42\n",
    ")\n"
   ]
  },
  {
   "cell_type": "code",
   "execution_count": 218,
   "metadata": {},
   "outputs": [
    {
     "data": {
      "text/plain": [
       "Female    58552\n",
       "Male      41430\n",
       "Other        18\n",
       "Name: gender, dtype: int64"
      ]
     },
     "execution_count": 218,
     "metadata": {},
     "output_type": "execute_result"
    }
   ],
   "source": [
    "df[\"gender\"].value_counts()\n"
   ]
  },
  {
   "cell_type": "code",
   "execution_count": 219,
   "metadata": {},
   "outputs": [
    {
     "data": {
      "text/html": [
       "<div>\n",
       "<style scoped>\n",
       "    .dataframe tbody tr th:only-of-type {\n",
       "        vertical-align: middle;\n",
       "    }\n",
       "\n",
       "    .dataframe tbody tr th {\n",
       "        vertical-align: top;\n",
       "    }\n",
       "\n",
       "    .dataframe thead th {\n",
       "        text-align: right;\n",
       "    }\n",
       "</style>\n",
       "<table border=\"1\" class=\"dataframe\">\n",
       "  <thead>\n",
       "    <tr style=\"text-align: right;\">\n",
       "      <th></th>\n",
       "      <th>gender</th>\n",
       "      <th>age</th>\n",
       "      <th>hypertension</th>\n",
       "      <th>heart_disease</th>\n",
       "      <th>smoking_history</th>\n",
       "      <th>bmi</th>\n",
       "      <th>HbA1c_level</th>\n",
       "      <th>blood_glucose_level</th>\n",
       "      <th>diabetes</th>\n",
       "    </tr>\n",
       "  </thead>\n",
       "  <tbody>\n",
       "    <tr>\n",
       "      <th>0</th>\n",
       "      <td>0</td>\n",
       "      <td>80.0</td>\n",
       "      <td>0</td>\n",
       "      <td>1</td>\n",
       "      <td>never</td>\n",
       "      <td>25.19</td>\n",
       "      <td>6.6</td>\n",
       "      <td>140</td>\n",
       "      <td>0</td>\n",
       "    </tr>\n",
       "    <tr>\n",
       "      <th>1</th>\n",
       "      <td>0</td>\n",
       "      <td>54.0</td>\n",
       "      <td>0</td>\n",
       "      <td>0</td>\n",
       "      <td>No Info</td>\n",
       "      <td>27.32</td>\n",
       "      <td>6.6</td>\n",
       "      <td>80</td>\n",
       "      <td>0</td>\n",
       "    </tr>\n",
       "    <tr>\n",
       "      <th>2</th>\n",
       "      <td>1</td>\n",
       "      <td>28.0</td>\n",
       "      <td>0</td>\n",
       "      <td>0</td>\n",
       "      <td>never</td>\n",
       "      <td>27.32</td>\n",
       "      <td>5.7</td>\n",
       "      <td>158</td>\n",
       "      <td>0</td>\n",
       "    </tr>\n",
       "    <tr>\n",
       "      <th>3</th>\n",
       "      <td>0</td>\n",
       "      <td>36.0</td>\n",
       "      <td>0</td>\n",
       "      <td>0</td>\n",
       "      <td>current</td>\n",
       "      <td>23.45</td>\n",
       "      <td>5.0</td>\n",
       "      <td>155</td>\n",
       "      <td>0</td>\n",
       "    </tr>\n",
       "    <tr>\n",
       "      <th>4</th>\n",
       "      <td>1</td>\n",
       "      <td>76.0</td>\n",
       "      <td>1</td>\n",
       "      <td>1</td>\n",
       "      <td>current</td>\n",
       "      <td>20.14</td>\n",
       "      <td>4.8</td>\n",
       "      <td>155</td>\n",
       "      <td>0</td>\n",
       "    </tr>\n",
       "  </tbody>\n",
       "</table>\n",
       "</div>"
      ],
      "text/plain": [
       "   gender   age  hypertension  heart_disease smoking_history    bmi  \\\n",
       "0       0  80.0             0              1           never  25.19   \n",
       "1       0  54.0             0              0         No Info  27.32   \n",
       "2       1  28.0             0              0           never  27.32   \n",
       "3       0  36.0             0              0         current  23.45   \n",
       "4       1  76.0             1              1         current  20.14   \n",
       "\n",
       "   HbA1c_level  blood_glucose_level  diabetes  \n",
       "0          6.6                  140         0  \n",
       "1          6.6                   80         0  \n",
       "2          5.7                  158         0  \n",
       "3          5.0                  155         0  \n",
       "4          4.8                  155         0  "
      ]
     },
     "execution_count": 219,
     "metadata": {},
     "output_type": "execute_result"
    }
   ],
   "source": [
    "# Encode gender\n",
    "\n",
    "label_encoder = preprocessing.LabelEncoder()\n",
    "df[\"gender\"] = label_encoder.fit_transform(df[\"gender\"])\n",
    "df.head()\n"
   ]
  },
  {
   "attachments": {},
   "cell_type": "markdown",
   "metadata": {},
   "source": [
    "## Normalising the data"
   ]
  },
  {
   "attachments": {},
   "cell_type": "markdown",
   "metadata": {},
   "source": [
    "# Models"
   ]
  },
  {
   "cell_type": "code",
   "execution_count": 220,
   "metadata": {},
   "outputs": [],
   "source": [
    "def run_baseline(estimator, X_train, X_test, y_train, y_test):\n",
    "    # Train and predict\n",
    "    pipeline.set_params(estimator=estimator)\n",
    "    pipeline.fit(X_train, y_train)\n",
    "    prediction = pipeline.predict(X_test)\n",
    "\n",
    "    # Compute metrics\n",
    "    cm = confusion_matrix(y_test, prediction, labels=label_order)\n",
    "\n",
    "    # Plot\n",
    "    plot_confusion_matrix(cm, classes=label_names, title=type(estimator).__name__)\n",
    "    plt.show()\n",
    "    print(classification_report(y_test, prediction, target_names=label_names))\n"
   ]
  },
  {
   "attachments": {},
   "cell_type": "markdown",
   "metadata": {},
   "source": [
    "###  Decision Tree"
   ]
  },
  {
   "cell_type": "code",
   "execution_count": 221,
   "metadata": {},
   "outputs": [
    {
     "data": {
      "image/png": "[encoded data removed]",
      "text/plain": [
       "<Figure size 640x480 with 2 Axes>"
      ]
     },
     "metadata": {},
     "output_type": "display_data"
    },
    {
     "name": "stdout",
     "output_type": "stream",
     "text": [
      "              precision    recall  f1-score   support\n",
      "\n",
      "    Negative       0.99      0.87      0.92     18300\n",
      "    Positive       0.39      0.93      0.55      1700\n",
      "\n",
      "    accuracy                           0.87     20000\n",
      "   macro avg       0.69      0.90      0.74     20000\n",
      "weighted avg       0.94      0.87      0.89     20000\n",
      "\n"
     ]
    }
   ],
   "source": [
    "estimator = DecisionTreeClassifier(max_depth=7, random_state=42)\n",
    "run_baseline(estimator, X_train, X_test, y_train, y_test)"
   ]
  },
  {
   "attachments": {},
   "cell_type": "markdown",
   "metadata": {},
   "source": [
    "#### Plot decision tree"
   ]
  },
  {
   "cell_type": "code",
   "execution_count": 222,
   "metadata": {},
   "outputs": [
    {
     "data": {
      "image/png": "[encoded data removed]",
      "text/plain": [
       "<Figure size 2000x1000 with 1 Axes>"
      ]
     },
     "metadata": {},
     "output_type": "display_data"
    }
   ],
   "source": [
    "from sklearn import tree\n",
    "\n",
    "plt.figure(figsize=(20, 10))\n",
    "tree.plot_tree(estimator, feature_names=numeric_features, class_names=label_names)\n",
    "\n",
    "plt.savefig(\"decision_tree.svg\", dpi=350, format=\"svg\")\n",
    "plt.show()"
   ]
  },
  {
   "attachments": {},
   "cell_type": "markdown",
   "metadata": {},
   "source": [
    "#### Optimize hyperparameters"
   ]
  },
  {
   "attachments": {},
   "cell_type": "markdown",
   "metadata": {},
   "source": [
    "### Random Forest"
   ]
  },
  {
   "cell_type": "code",
   "execution_count": 223,
   "metadata": {},
   "outputs": [
    {
     "data": {
      "image/png": "[encoded data removed]",
      "text/plain": [
       "<Figure size 640x480 with 2 Axes>"
      ]
     },
     "metadata": {},
     "output_type": "display_data"
    },
    {
     "name": "stdout",
     "output_type": "stream",
     "text": [
      "              precision    recall  f1-score   support\n",
      "\n",
      "    Negative       0.98      0.98      0.98     18300\n",
      "    Positive       0.77      0.73      0.75      1700\n",
      "\n",
      "    accuracy                           0.96     20000\n",
      "   macro avg       0.87      0.86      0.86     20000\n",
      "weighted avg       0.96      0.96      0.96     20000\n",
      "\n"
     ]
    }
   ],
   "source": [
    "from sklearn.ensemble import RandomForestClassifier\n",
    "\n",
    "estimator = RandomForestClassifier(n_estimators=100, random_state=42)\n",
    "run_baseline(estimator, X_train, X_test, y_train, y_test)"
   ]
  },
  {
   "attachments": {},
   "cell_type": "markdown",
   "metadata": {},
   "source": [
    "### K Nearest Neighbors"
   ]
  },
  {
   "cell_type": "code",
   "execution_count": 224,
   "metadata": {},
   "outputs": [
    {
     "data": {
      "image/png": "[encoded data removed]",
      "text/plain": [
       "<Figure size 640x480 with 2 Axes>"
      ]
     },
     "metadata": {},
     "output_type": "display_data"
    },
    {
     "name": "stdout",
     "output_type": "stream",
     "text": [
      "              precision    recall  f1-score   support\n",
      "\n",
      "    Negative       0.98      0.94      0.96     18300\n",
      "    Positive       0.55      0.79      0.65      1700\n",
      "\n",
      "    accuracy                           0.93     20000\n",
      "   macro avg       0.76      0.87      0.80     20000\n",
      "weighted avg       0.94      0.93      0.93     20000\n",
      "\n"
     ]
    }
   ],
   "source": [
    "from sklearn.neighbors import KNeighborsClassifier\n",
    "\n",
    "estimator = KNeighborsClassifier(n_neighbors=5)\n",
    "run_baseline(estimator, X_train, X_test, y_train, y_test)"
   ]
  },
  {
   "attachments": {},
   "cell_type": "markdown",
   "metadata": {},
   "source": [
    "### Naive Bayes"
   ]
  },
  {
   "cell_type": "code",
   "execution_count": 225,
   "metadata": {},
   "outputs": [
    {
     "data": {
      "image/png": "[encoded data removed]",
      "text/plain": [
       "<Figure size 640x480 with 2 Axes>"
      ]
     },
     "metadata": {},
     "output_type": "display_data"
    },
    {
     "name": "stdout",
     "output_type": "stream",
     "text": [
      "              precision    recall  f1-score   support\n",
      "\n",
      "    Negative       0.98      0.90      0.94     18300\n",
      "    Positive       0.42      0.78      0.54      1700\n",
      "\n",
      "    accuracy                           0.89     20000\n",
      "   macro avg       0.70      0.84      0.74     20000\n",
      "weighted avg       0.93      0.89      0.90     20000\n",
      "\n"
     ]
    }
   ],
   "source": [
    "from sklearn.naive_bayes import GaussianNB\n",
    "\n",
    "estimator = GaussianNB()\n",
    "run_baseline(estimator, X_train, X_test, y_train, y_test)"
   ]
  },
  {
   "attachments": {},
   "cell_type": "markdown",
   "metadata": {},
   "source": [
    "### Support Vector Machines"
   ]
  },
  {
   "cell_type": "code",
   "execution_count": 226,
   "metadata": {},
   "outputs": [],
   "source": [
    "# from sklearn.svm import SVC\n",
    "\n",
    "# estimator = SVC()\n",
    "# run_baseline(estimator, X_train, X_test, y_train, y_test)"
   ]
  },
  {
   "attachments": {},
   "cell_type": "markdown",
   "metadata": {},
   "source": [
    "### Neural Network"
   ]
  },
  {
   "cell_type": "code",
   "execution_count": 227,
   "metadata": {},
   "outputs": [
    {
     "data": {
      "image/png": "[encoded data removed]",
      "text/plain": [
       "<Figure size 640x480 with 2 Axes>"
      ]
     },
     "metadata": {},
     "output_type": "display_data"
    },
    {
     "name": "stdout",
     "output_type": "stream",
     "text": [
      "              precision    recall  f1-score   support\n",
      "\n",
      "    Negative       0.99      0.90      0.94     18300\n",
      "    Positive       0.46      0.91      0.61      1700\n",
      "\n",
      "    accuracy                           0.90     20000\n",
      "   macro avg       0.73      0.91      0.78     20000\n",
      "weighted avg       0.95      0.90      0.92     20000\n",
      "\n"
     ]
    }
   ],
   "source": [
    "from sklearn.neural_network import MLPClassifier\n",
    "\n",
    "estimator = MLPClassifier()\n",
    "run_baseline(estimator, X_train, X_test, y_train, y_test)"
   ]
  },
  {
   "attachments": {},
   "cell_type": "markdown",
   "metadata": {},
   "source": [
    "### FastAI Neural Network"
   ]
  },
  {
   "cell_type": "code",
   "execution_count": 228,
   "metadata": {},
   "outputs": [],
   "source": [
    "# Fixes the issue with the progress bar in Jupyter notebooks\n",
    "from IPython.display import clear_output, DisplayHandle\n",
    "\n",
    "\n",
    "def update_patch(self, obj):\n",
    "    clear_output(wait=True)\n",
    "    self.display(obj)\n",
    "\n",
    "\n",
    "DisplayHandle.update = update_patch\n"
   ]
  },
  {
   "cell_type": "code",
   "execution_count": 229,
   "metadata": {},
   "outputs": [
    {
     "data": {
      "text/html": [
       "<table border=\"1\" class=\"dataframe\">\n",
       "  <thead>\n",
       "    <tr style=\"text-align: left;\">\n",
       "      <th>epoch</th>\n",
       "      <th>train_loss</th>\n",
       "      <th>valid_loss</th>\n",
       "      <th>f1_score</th>\n",
       "      <th>time</th>\n",
       "    </tr>\n",
       "  </thead>\n",
       "  <tbody>\n",
       "    <tr>\n",
       "      <td>0</td>\n",
       "      <td>0.650392</td>\n",
       "      <td>0.615908</td>\n",
       "      <td>0.626554</td>\n",
       "      <td>00:01</td>\n",
       "    </tr>\n",
       "    <tr>\n",
       "      <td>1</td>\n",
       "      <td>0.575385</td>\n",
       "      <td>0.482925</td>\n",
       "      <td>0.739209</td>\n",
       "      <td>00:01</td>\n",
       "    </tr>\n",
       "    <tr>\n",
       "      <td>2</td>\n",
       "      <td>0.501381</td>\n",
       "      <td>0.407239</td>\n",
       "      <td>0.828713</td>\n",
       "      <td>00:01</td>\n",
       "    </tr>\n",
       "    <tr>\n",
       "      <td>3</td>\n",
       "      <td>0.439503</td>\n",
       "      <td>0.371394</td>\n",
       "      <td>0.873796</td>\n",
       "      <td>00:01</td>\n",
       "    </tr>\n",
       "    <tr>\n",
       "      <td>4</td>\n",
       "      <td>0.398369</td>\n",
       "      <td>0.359863</td>\n",
       "      <td>0.883477</td>\n",
       "      <td>00:01</td>\n",
       "    </tr>\n",
       "    <tr>\n",
       "      <td>5</td>\n",
       "      <td>0.375035</td>\n",
       "      <td>0.354167</td>\n",
       "      <td>0.885931</td>\n",
       "      <td>00:01</td>\n",
       "    </tr>\n",
       "    <tr>\n",
       "      <td>6</td>\n",
       "      <td>0.361985</td>\n",
       "      <td>0.351585</td>\n",
       "      <td>0.884903</td>\n",
       "      <td>00:01</td>\n",
       "    </tr>\n",
       "    <tr>\n",
       "      <td>7</td>\n",
       "      <td>0.355043</td>\n",
       "      <td>0.350117</td>\n",
       "      <td>0.886162</td>\n",
       "      <td>00:01</td>\n",
       "    </tr>\n",
       "    <tr>\n",
       "      <td>8</td>\n",
       "      <td>0.351288</td>\n",
       "      <td>0.349512</td>\n",
       "      <td>0.887415</td>\n",
       "      <td>00:01</td>\n",
       "    </tr>\n",
       "    <tr>\n",
       "      <td>9</td>\n",
       "      <td>0.349701</td>\n",
       "      <td>0.349564</td>\n",
       "      <td>0.887343</td>\n",
       "      <td>00:01</td>\n",
       "    </tr>\n",
       "  </tbody>\n",
       "</table>"
      ],
      "text/plain": [
       "<IPython.core.display.HTML object>"
      ]
     },
     "metadata": {},
     "output_type": "display_data"
    }
   ],
   "source": [
    "from fastai.tabular.all import *\n",
    "from pathlib import Path\n",
    "\n",
    "path = Path(\".\")\n",
    "\n",
    "# Define your categorical and continuous variables\n",
    "cat_vars = [\"gender\", \"hypertension\", \"heart_disease\"]\n",
    "cont_vars = [\"age\", \"bmi\", \"HbA1c_level\", \"blood_glucose_level\"]\n",
    "y_names = \"diabetes\"\n",
    "y_block = CategoryBlock()\n",
    "\n",
    "# Define the preprocessing steps\n",
    "procs = [Categorify, FillMissing, Normalize]\n",
    "\n",
    "# Create a TabularDataLoaders object\n",
    "dls = TabularDataLoaders.from_csv(\n",
    "    path / \"diabetes_prediction_dataset.csv\",\n",
    "    path=path,\n",
    "    y_names=y_names,\n",
    "    cat_names=cat_vars,\n",
    "    cont_names=cont_vars,\n",
    "    procs=procs,\n",
    "    bs=2048,\n",
    "    y_block=y_block,\n",
    ")\n",
    "\n",
    "# Learn the model\n",
    "learn = tabular_learner(dls, metrics=F1Score(average=\"macro\"), y_range=(0, 1))\n",
    "learn.fit_one_cycle(10)\n"
   ]
  },
  {
   "cell_type": "code",
   "execution_count": 230,
   "metadata": {},
   "outputs": [
    {
     "data": {
      "text/html": [],
      "text/plain": [
       "<IPython.core.display.HTML object>"
      ]
     },
     "metadata": {},
     "output_type": "display_data"
    },
    {
     "data": {
      "image/png": "[encoded data removed]",
      "text/plain": [
       "<Figure size 640x480 with 2 Axes>"
      ]
     },
     "metadata": {},
     "output_type": "display_data"
    }
   ],
   "source": [
    "# Get predictions\n",
    "preds, targets = learn.get_preds(dl=dls.valid)\n",
    "predicted_classes = preds.argmax(dim=1)\n",
    "\n",
    "# Plot confusion matrix\n",
    "cm = confusion_matrix(targets, predicted_classes, labels=label_order)\n",
    "plot_confusion_matrix(cm, classes=label_names, title=\"Neural Network Classifier FastAI\")\n",
    "plt.show()"
   ]
  },
  {
   "cell_type": "code",
   "execution_count": 231,
   "metadata": {},
   "outputs": [
    {
     "name": "stdout",
     "output_type": "stream",
     "text": [
      "              precision    recall  f1-score   support\n",
      "\n",
      "           0       0.97      1.00      0.98     18282\n",
      "           1       0.97      0.67      0.79      1718\n",
      "\n",
      "    accuracy                           0.97     20000\n",
      "   macro avg       0.97      0.83      0.89     20000\n",
      "weighted avg       0.97      0.97      0.97     20000\n",
      "\n"
     ]
    }
   ],
   "source": [
    "# Report metrics\n",
    "print(classification_report(targets, predicted_classes))"
   ]
  },
  {
   "attachments": {},
   "cell_type": "markdown",
   "metadata": {},
   "source": [
    "### Logistic Regression"
   ]
  },
  {
   "attachments": {},
   "cell_type": "markdown",
   "metadata": {},
   "source": [
    "we could try: https://www.kaggle.com/code/anubhav012/diabetes-prediction-eda-model-score-0-9724?scriptVersionId=128635440&cellId=52 "
   ]
  },
  {
   "attachments": {},
   "cell_type": "markdown",
   "metadata": {},
   "source": [
    "try to adjust parameter to: newton-cholesky (https://scikit-learn.org/stable/modules/generated/sklearn.linear_model.LogisticRegression.html) and penalty to L2 (all features relevant to prediction)"
   ]
  },
  {
   "attachments": {},
   "cell_type": "markdown",
   "metadata": {},
   "source": []
  },
  {
   "cell_type": "code",
   "execution_count": 232,
   "metadata": {},
   "outputs": [
    {
     "data": {
      "image/png": "[encoded data removed]",
      "text/plain": [
       "<Figure size 640x480 with 2 Axes>"
      ]
     },
     "metadata": {},
     "output_type": "display_data"
    },
    {
     "name": "stdout",
     "output_type": "stream",
     "text": [
      "              precision    recall  f1-score   support\n",
      "\n",
      "    Negative       0.99      0.89      0.93     18300\n",
      "    Positive       0.42      0.89      0.57      1700\n",
      "\n",
      "    accuracy                           0.89     20000\n",
      "   macro avg       0.70      0.89      0.75     20000\n",
      "weighted avg       0.94      0.89      0.90     20000\n",
      "\n",
      "test\n"
     ]
    }
   ],
   "source": [
    "from sklearn.linear_model import LogisticRegression\n",
    "\n",
    "estimator = LogisticRegression()\n",
    "run_baseline(estimator, X_train, X_test, y_train, y_test)\n",
    "print(\"test\")\n",
    "\n",
    "# acc = roc_auc_score(y_train, y_test)\n",
    "# print(\"ROC AUC Score : \", acc)\n"
   ]
  },
  {
   "attachments": {},
   "cell_type": "markdown",
   "metadata": {},
   "source": [
    "### Gradient Boosting Classifier"
   ]
  },
  {
   "cell_type": "code",
   "execution_count": 233,
   "metadata": {},
   "outputs": [
    {
     "data": {
      "image/png": "[encoded data removed]",
      "text/plain": [
       "<Figure size 640x480 with 2 Axes>"
      ]
     },
     "metadata": {},
     "output_type": "display_data"
    },
    {
     "name": "stdout",
     "output_type": "stream",
     "text": [
      "              precision    recall  f1-score   support\n",
      "\n",
      "    Negative       0.99      0.90      0.94     18300\n",
      "    Positive       0.45      0.93      0.61      1700\n",
      "\n",
      "    accuracy                           0.90     20000\n",
      "   macro avg       0.72      0.91      0.78     20000\n",
      "weighted avg       0.95      0.90      0.91     20000\n",
      "\n"
     ]
    }
   ],
   "source": [
    "from sklearn.ensemble import GradientBoostingClassifier\n",
    "\n",
    "estimator = GradientBoostingClassifier()\n",
    "run_baseline(estimator, X_train, X_test, y_train, y_test)\n"
   ]
  },
  {
   "attachments": {},
   "cell_type": "markdown",
   "metadata": {},
   "source": [
    "### Stratified Cross-Validation"
   ]
  },
  {
   "attachments": {},
   "cell_type": "markdown",
   "metadata": {},
   "source": [
    "### Optimize Preprossecing"
   ]
  },
  {
   "cell_type": "code",
   "execution_count": 243,
   "metadata": {},
   "outputs": [
    {
     "name": "stderr",
     "output_type": "stream",
     "text": [
      "Estimators:   0%|          | 0/7 [00:00<?, ?it/s]\n",
      "\u001b[A\n",
      "\u001b[A"
     ]
    },
    {
     "name": "stdout",
     "output_type": "stream",
     "text": [
      "Estimator: KNeighborsClassifier(), parameters: {'estimator__n_neighbors': [3, 5, 7, 9, 11]}, Scaler: StandardScaler()\n",
      "{'estimator__n_neighbors': 3}\n",
      "              precision    recall  f1-score   support\n",
      "\n",
      "           0       0.95      0.93      0.94       179\n",
      "           1       0.52      0.62      0.57        21\n",
      "\n",
      "    accuracy                           0.90       200\n",
      "   macro avg       0.74      0.78      0.75       200\n",
      "weighted avg       0.91      0.90      0.90       200\n",
      "\n"
     ]
    },
    {
     "name": "stderr",
     "output_type": "stream",
     "text": [
      "\n",
      "\u001b[A\n",
      "\u001b[A"
     ]
    },
    {
     "name": "stdout",
     "output_type": "stream",
     "text": [
      "Estimator: KNeighborsClassifier(), parameters: {'estimator__n_neighbors': [3, 5, 7, 9, 11]}, Scaler: StandardScaler()\n",
      "{'estimator__n_neighbors': 11}\n",
      "              precision    recall  f1-score   support\n",
      "\n",
      "           0       0.99      0.83      0.91       179\n",
      "           1       0.40      0.95      0.56        21\n",
      "\n",
      "    accuracy                           0.84       200\n",
      "   macro avg       0.70      0.89      0.73       200\n",
      "weighted avg       0.93      0.84      0.87       200\n",
      "\n"
     ]
    },
    {
     "name": "stderr",
     "output_type": "stream",
     "text": [
      "\n",
      "\u001b[A\n",
      "\u001b[A"
     ]
    },
    {
     "name": "stdout",
     "output_type": "stream",
     "text": [
      "Estimator: KNeighborsClassifier(), parameters: {'estimator__n_neighbors': [3, 5, 7, 9, 11]}, Scaler: MinMaxScaler()\n",
      "{'estimator__n_neighbors': 3}\n",
      "              precision    recall  f1-score   support\n",
      "\n",
      "           0       0.93      0.96      0.94       179\n",
      "           1       0.53      0.43      0.47        21\n",
      "\n",
      "    accuracy                           0.90       200\n",
      "   macro avg       0.73      0.69      0.71       200\n",
      "weighted avg       0.89      0.90      0.90       200\n",
      "\n"
     ]
    },
    {
     "name": "stderr",
     "output_type": "stream",
     "text": [
      "\n",
      "\u001b[A\n",
      "\u001b[A"
     ]
    },
    {
     "name": "stdout",
     "output_type": "stream",
     "text": [
      "Estimator: KNeighborsClassifier(), parameters: {'estimator__n_neighbors': [3, 5, 7, 9, 11]}, Scaler: MinMaxScaler()\n",
      "{'estimator__n_neighbors': 9}\n",
      "              precision    recall  f1-score   support\n",
      "\n",
      "           0       0.96      0.70      0.81       179\n",
      "           1       0.23      0.76      0.36        21\n",
      "\n",
      "    accuracy                           0.71       200\n",
      "   macro avg       0.60      0.73      0.58       200\n",
      "weighted avg       0.89      0.71      0.76       200\n",
      "\n"
     ]
    },
    {
     "name": "stderr",
     "output_type": "stream",
     "text": [
      "\n",
      "\u001b[A\n",
      "\u001b[A"
     ]
    },
    {
     "name": "stdout",
     "output_type": "stream",
     "text": [
      "Estimator: KNeighborsClassifier(), parameters: {'estimator__n_neighbors': [3, 5, 7, 9, 11]}, Scaler: RobustScaler()\n",
      "{'estimator__n_neighbors': 5}\n",
      "              precision    recall  f1-score   support\n",
      "\n",
      "           0       0.97      0.90      0.93       179\n",
      "           1       0.47      0.76      0.58        21\n",
      "\n",
      "    accuracy                           0.89       200\n",
      "   macro avg       0.72      0.83      0.76       200\n",
      "weighted avg       0.92      0.89      0.90       200\n",
      "\n"
     ]
    },
    {
     "name": "stderr",
     "output_type": "stream",
     "text": [
      "\n",
      "\u001b[A\n",
      "\u001b[A"
     ]
    },
    {
     "name": "stdout",
     "output_type": "stream",
     "text": [
      "Estimator: KNeighborsClassifier(), parameters: {'estimator__n_neighbors': [3, 5, 7, 9, 11]}, Scaler: RobustScaler()\n",
      "{'estimator__n_neighbors': 9}\n",
      "              precision    recall  f1-score   support\n",
      "\n",
      "           0       0.98      0.88      0.93       179\n",
      "           1       0.46      0.86      0.60        21\n",
      "\n",
      "    accuracy                           0.88       200\n",
      "   macro avg       0.72      0.87      0.76       200\n",
      "weighted avg       0.93      0.88      0.89       200\n",
      "\n"
     ]
    },
    {
     "name": "stderr",
     "output_type": "stream",
     "text": [
      "\n",
      "\u001b[A\n",
      "\u001b[A"
     ]
    },
    {
     "name": "stdout",
     "output_type": "stream",
     "text": [
      "Estimator: KNeighborsClassifier(), parameters: {'estimator__n_neighbors': [3, 5, 7, 9, 11]}, Scaler: MaxAbsScaler()\n",
      "{'estimator__n_neighbors': 3}\n",
      "              precision    recall  f1-score   support\n",
      "\n",
      "           0       0.94      0.94      0.94       179\n",
      "           1       0.52      0.52      0.52        21\n",
      "\n",
      "    accuracy                           0.90       200\n",
      "   macro avg       0.73      0.73      0.73       200\n",
      "weighted avg       0.90      0.90      0.90       200\n",
      "\n"
     ]
    },
    {
     "name": "stderr",
     "output_type": "stream",
     "text": [
      "\n",
      "\u001b[A\n",
      "Estimators:  14%|█▍        | 1/7 [00:05<00:32,  5.41s/it]"
     ]
    },
    {
     "name": "stdout",
     "output_type": "stream",
     "text": [
      "Estimator: KNeighborsClassifier(), parameters: {'estimator__n_neighbors': [3, 5, 7, 9, 11]}, Scaler: MaxAbsScaler()\n",
      "{'estimator__n_neighbors': 9}\n",
      "              precision    recall  f1-score   support\n",
      "\n",
      "           0       0.96      0.74      0.83       179\n",
      "           1       0.24      0.71      0.36        21\n",
      "\n",
      "    accuracy                           0.73       200\n",
      "   macro avg       0.60      0.73      0.60       200\n",
      "weighted avg       0.88      0.73      0.78       200\n",
      "\n"
     ]
    },
    {
     "name": "stderr",
     "output_type": "stream",
     "text": [
      "\n",
      "\u001b[A\n",
      "\u001b[A"
     ]
    },
    {
     "name": "stdout",
     "output_type": "stream",
     "text": [
      "Estimator: LogisticRegression(max_iter=1000), parameters: {'estimator__C': [0.1, 1, 10, 100]}, Scaler: StandardScaler()\n",
      "{'estimator__C': 1}\n",
      "              precision    recall  f1-score   support\n",
      "\n",
      "           0       0.98      0.89      0.93       179\n",
      "           1       0.47      0.86      0.61        21\n",
      "\n",
      "    accuracy                           0.89       200\n",
      "   macro avg       0.73      0.87      0.77       200\n",
      "weighted avg       0.93      0.89      0.90       200\n",
      "\n"
     ]
    },
    {
     "name": "stderr",
     "output_type": "stream",
     "text": [
      "\n",
      "\u001b[A\n",
      "\u001b[A"
     ]
    },
    {
     "name": "stdout",
     "output_type": "stream",
     "text": [
      "Estimator: LogisticRegression(max_iter=1000), parameters: {'estimator__C': [0.1, 1, 10, 100]}, Scaler: StandardScaler()\n",
      "{'estimator__C': 1}\n",
      "              precision    recall  f1-score   support\n",
      "\n",
      "           0       0.97      0.85      0.91       179\n",
      "           1       0.39      0.81      0.52        21\n",
      "\n",
      "    accuracy                           0.84       200\n",
      "   macro avg       0.68      0.83      0.72       200\n",
      "weighted avg       0.91      0.84      0.87       200\n",
      "\n"
     ]
    },
    {
     "name": "stderr",
     "output_type": "stream",
     "text": [
      "\n",
      "\u001b[A\n",
      "\u001b[A"
     ]
    },
    {
     "name": "stdout",
     "output_type": "stream",
     "text": [
      "Estimator: LogisticRegression(max_iter=1000), parameters: {'estimator__C': [0.1, 1, 10, 100]}, Scaler: MinMaxScaler()\n",
      "{'estimator__C': 100}\n",
      "              precision    recall  f1-score   support\n",
      "\n",
      "           0       0.98      0.88      0.93       179\n",
      "           1       0.45      0.86      0.59        21\n",
      "\n",
      "    accuracy                           0.88       200\n",
      "   macro avg       0.72      0.87      0.76       200\n",
      "weighted avg       0.93      0.88      0.89       200\n",
      "\n"
     ]
    },
    {
     "name": "stderr",
     "output_type": "stream",
     "text": [
      "\n",
      "\u001b[A\n",
      "\u001b[A"
     ]
    },
    {
     "name": "stdout",
     "output_type": "stream",
     "text": [
      "Estimator: LogisticRegression(max_iter=1000), parameters: {'estimator__C': [0.1, 1, 10, 100]}, Scaler: MinMaxScaler()\n",
      "{'estimator__C': 10}\n",
      "              precision    recall  f1-score   support\n",
      "\n",
      "           0       0.98      0.84      0.91       179\n",
      "           1       0.39      0.86      0.54        21\n",
      "\n",
      "    accuracy                           0.84       200\n",
      "   macro avg       0.69      0.85      0.72       200\n",
      "weighted avg       0.92      0.84      0.87       200\n",
      "\n"
     ]
    },
    {
     "name": "stderr",
     "output_type": "stream",
     "text": [
      "\n",
      "\u001b[A\n",
      "\u001b[A"
     ]
    },
    {
     "name": "stdout",
     "output_type": "stream",
     "text": [
      "Estimator: LogisticRegression(max_iter=1000), parameters: {'estimator__C': [0.1, 1, 10, 100]}, Scaler: RobustScaler()\n",
      "{'estimator__C': 1}\n",
      "              precision    recall  f1-score   support\n",
      "\n",
      "           0       0.99      0.88      0.93       179\n",
      "           1       0.47      0.90      0.62        21\n",
      "\n",
      "    accuracy                           0.89       200\n",
      "   macro avg       0.73      0.89      0.78       200\n",
      "weighted avg       0.93      0.89      0.90       200\n",
      "\n"
     ]
    },
    {
     "name": "stderr",
     "output_type": "stream",
     "text": [
      "\n",
      "\u001b[A\n",
      "\u001b[A"
     ]
    },
    {
     "name": "stdout",
     "output_type": "stream",
     "text": [
      "Estimator: LogisticRegression(max_iter=1000), parameters: {'estimator__C': [0.1, 1, 10, 100]}, Scaler: RobustScaler()\n",
      "{'estimator__C': 1}\n",
      "              precision    recall  f1-score   support\n",
      "\n",
      "           0       0.99      0.89      0.94       179\n",
      "           1       0.50      0.95      0.66        21\n",
      "\n",
      "    accuracy                           0.90       200\n",
      "   macro avg       0.75      0.92      0.80       200\n",
      "weighted avg       0.94      0.90      0.91       200\n",
      "\n"
     ]
    },
    {
     "name": "stderr",
     "output_type": "stream",
     "text": [
      "\n",
      "\u001b[A\n",
      "\u001b[A"
     ]
    },
    {
     "name": "stdout",
     "output_type": "stream",
     "text": [
      "Estimator: LogisticRegression(max_iter=1000), parameters: {'estimator__C': [0.1, 1, 10, 100]}, Scaler: MaxAbsScaler()\n",
      "{'estimator__C': 100}\n",
      "              precision    recall  f1-score   support\n",
      "\n",
      "           0       0.97      0.87      0.92       179\n",
      "           1       0.42      0.81      0.56        21\n",
      "\n",
      "    accuracy                           0.86       200\n",
      "   macro avg       0.70      0.84      0.74       200\n",
      "weighted avg       0.92      0.86      0.88       200\n",
      "\n"
     ]
    },
    {
     "name": "stderr",
     "output_type": "stream",
     "text": [
      "\n",
      "\u001b[A\n",
      "Estimators:  29%|██▊       | 2/7 [00:10<00:25,  5.12s/it]"
     ]
    },
    {
     "name": "stdout",
     "output_type": "stream",
     "text": [
      "Estimator: LogisticRegression(max_iter=1000), parameters: {'estimator__C': [0.1, 1, 10, 100]}, Scaler: MaxAbsScaler()\n",
      "{'estimator__C': 100}\n",
      "              precision    recall  f1-score   support\n",
      "\n",
      "           0       0.99      0.84      0.91       179\n",
      "           1       0.42      0.95      0.58        21\n",
      "\n",
      "    accuracy                           0.85       200\n",
      "   macro avg       0.71      0.90      0.75       200\n",
      "weighted avg       0.93      0.85      0.88       200\n",
      "\n"
     ]
    },
    {
     "name": "stderr",
     "output_type": "stream",
     "text": [
      "\n",
      "\u001b[A\n",
      "\u001b[A"
     ]
    },
    {
     "name": "stdout",
     "output_type": "stream",
     "text": [
      "Estimator: DecisionTreeClassifier(), parameters: {'estimator__max_depth': [3, 5, 7, 9, 11]}, Scaler: StandardScaler()\n",
      "{'estimator__max_depth': 11}\n",
      "              precision    recall  f1-score   support\n",
      "\n",
      "           0       0.98      0.98      0.98       179\n",
      "           1       0.81      0.81      0.81        21\n",
      "\n",
      "    accuracy                           0.96       200\n",
      "   macro avg       0.89      0.89      0.89       200\n",
      "weighted avg       0.96      0.96      0.96       200\n",
      "\n"
     ]
    },
    {
     "name": "stderr",
     "output_type": "stream",
     "text": [
      "\n",
      "\u001b[A\n",
      "\u001b[A"
     ]
    },
    {
     "name": "stdout",
     "output_type": "stream",
     "text": [
      "Estimator: DecisionTreeClassifier(), parameters: {'estimator__max_depth': [3, 5, 7, 9, 11]}, Scaler: StandardScaler()\n",
      "{'estimator__max_depth': 11}\n",
      "              precision    recall  f1-score   support\n",
      "\n",
      "           0       0.99      0.85      0.92       179\n",
      "           1       0.42      0.90      0.58        21\n",
      "\n",
      "    accuracy                           0.86       200\n",
      "   macro avg       0.70      0.88      0.75       200\n",
      "weighted avg       0.93      0.86      0.88       200\n",
      "\n"
     ]
    },
    {
     "name": "stderr",
     "output_type": "stream",
     "text": [
      "\n",
      "\u001b[A\n",
      "\u001b[A"
     ]
    },
    {
     "name": "stdout",
     "output_type": "stream",
     "text": [
      "Estimator: DecisionTreeClassifier(), parameters: {'estimator__max_depth': [3, 5, 7, 9, 11]}, Scaler: MinMaxScaler()\n",
      "{'estimator__max_depth': 11}\n",
      "              precision    recall  f1-score   support\n",
      "\n",
      "           0       0.98      0.92      0.95       179\n",
      "           1       0.53      0.81      0.64        21\n",
      "\n",
      "    accuracy                           0.91       200\n",
      "   macro avg       0.75      0.86      0.79       200\n",
      "weighted avg       0.93      0.91      0.91       200\n",
      "\n"
     ]
    },
    {
     "name": "stderr",
     "output_type": "stream",
     "text": [
      "\n",
      "\u001b[A\n",
      "\u001b[A"
     ]
    },
    {
     "name": "stdout",
     "output_type": "stream",
     "text": [
      "Estimator: DecisionTreeClassifier(), parameters: {'estimator__max_depth': [3, 5, 7, 9, 11]}, Scaler: MinMaxScaler()\n",
      "{'estimator__max_depth': 7}\n",
      "              precision    recall  f1-score   support\n",
      "\n",
      "           0       0.98      0.82      0.89       179\n",
      "           1       0.35      0.86      0.50        21\n",
      "\n",
      "    accuracy                           0.82       200\n",
      "   macro avg       0.67      0.84      0.70       200\n",
      "weighted avg       0.91      0.82      0.85       200\n",
      "\n"
     ]
    },
    {
     "name": "stderr",
     "output_type": "stream",
     "text": [
      "\n",
      "\u001b[A\n",
      "\u001b[A"
     ]
    },
    {
     "name": "stdout",
     "output_type": "stream",
     "text": [
      "Estimator: DecisionTreeClassifier(), parameters: {'estimator__max_depth': [3, 5, 7, 9, 11]}, Scaler: RobustScaler()\n",
      "{'estimator__max_depth': 7}\n",
      "              precision    recall  f1-score   support\n",
      "\n",
      "           0       0.99      0.91      0.95       179\n",
      "           1       0.54      0.90      0.68        21\n",
      "\n",
      "    accuracy                           0.91       200\n",
      "   macro avg       0.77      0.91      0.81       200\n",
      "weighted avg       0.94      0.91      0.92       200\n",
      "\n"
     ]
    },
    {
     "name": "stderr",
     "output_type": "stream",
     "text": [
      "\n",
      "\u001b[A\n",
      "\u001b[A"
     ]
    },
    {
     "name": "stdout",
     "output_type": "stream",
     "text": [
      "Estimator: DecisionTreeClassifier(), parameters: {'estimator__max_depth': [3, 5, 7, 9, 11]}, Scaler: RobustScaler()\n",
      "{'estimator__max_depth': 5}\n",
      "              precision    recall  f1-score   support\n",
      "\n",
      "           0       0.98      0.81      0.89       179\n",
      "           1       0.35      0.86      0.49        21\n",
      "\n",
      "    accuracy                           0.81       200\n",
      "   macro avg       0.66      0.83      0.69       200\n",
      "weighted avg       0.91      0.81      0.85       200\n",
      "\n"
     ]
    },
    {
     "name": "stderr",
     "output_type": "stream",
     "text": [
      "\n",
      "\u001b[A\n",
      "\u001b[A"
     ]
    },
    {
     "name": "stdout",
     "output_type": "stream",
     "text": [
      "Estimator: DecisionTreeClassifier(), parameters: {'estimator__max_depth': [3, 5, 7, 9, 11]}, Scaler: MaxAbsScaler()\n",
      "{'estimator__max_depth': 11}\n",
      "              precision    recall  f1-score   support\n",
      "\n",
      "           0       0.98      0.94      0.96       179\n",
      "           1       0.64      0.86      0.73        21\n",
      "\n",
      "    accuracy                           0.94       200\n",
      "   macro avg       0.81      0.90      0.85       200\n",
      "weighted avg       0.95      0.94      0.94       200\n",
      "\n"
     ]
    },
    {
     "name": "stderr",
     "output_type": "stream",
     "text": [
      "\n",
      "\u001b[A\n",
      "Estimators:  43%|████▎     | 3/7 [00:14<00:18,  4.71s/it]"
     ]
    },
    {
     "name": "stdout",
     "output_type": "stream",
     "text": [
      "Estimator: DecisionTreeClassifier(), parameters: {'estimator__max_depth': [3, 5, 7, 9, 11]}, Scaler: MaxAbsScaler()\n",
      "{'estimator__max_depth': 11}\n",
      "              precision    recall  f1-score   support\n",
      "\n",
      "           0       0.96      0.82      0.89       179\n",
      "           1       0.32      0.71      0.44        21\n",
      "\n",
      "    accuracy                           0.81       200\n",
      "   macro avg       0.64      0.77      0.66       200\n",
      "weighted avg       0.89      0.81      0.84       200\n",
      "\n"
     ]
    },
    {
     "name": "stderr",
     "output_type": "stream",
     "text": [
      "\n",
      "\u001b[A\n",
      "\u001b[A"
     ]
    },
    {
     "name": "stdout",
     "output_type": "stream",
     "text": [
      "Estimator: RandomForestClassifier(), parameters: {'estimator__max_depth': [3, 5, 7, 9, 11], 'estimator__criterion': ['gini', 'entropy', 'log_loss']}, Scaler: StandardScaler()\n",
      "{'estimator__criterion': 'gini', 'estimator__max_depth': 9}\n",
      "              precision    recall  f1-score   support\n",
      "\n",
      "           0       0.97      0.96      0.97       179\n",
      "           1       0.70      0.76      0.73        21\n",
      "\n",
      "    accuracy                           0.94       200\n",
      "   macro avg       0.83      0.86      0.85       200\n",
      "weighted avg       0.94      0.94      0.94       200\n",
      "\n"
     ]
    },
    {
     "name": "stderr",
     "output_type": "stream",
     "text": [
      "\n",
      "\u001b[A\n",
      "\u001b[A"
     ]
    },
    {
     "name": "stdout",
     "output_type": "stream",
     "text": [
      "Estimator: RandomForestClassifier(), parameters: {'estimator__max_depth': [3, 5, 7, 9, 11], 'estimator__criterion': ['gini', 'entropy', 'log_loss']}, Scaler: StandardScaler()\n",
      "{'estimator__criterion': 'gini', 'estimator__max_depth': 11}\n",
      "              precision    recall  f1-score   support\n",
      "\n",
      "           0       0.98      0.85      0.91       179\n",
      "           1       0.40      0.86      0.55        21\n",
      "\n",
      "    accuracy                           0.85       200\n",
      "   macro avg       0.69      0.85      0.73       200\n",
      "weighted avg       0.92      0.85      0.87       200\n",
      "\n"
     ]
    },
    {
     "name": "stderr",
     "output_type": "stream",
     "text": [
      "\n",
      "\u001b[A\n",
      "\u001b[A"
     ]
    },
    {
     "name": "stdout",
     "output_type": "stream",
     "text": [
      "Estimator: RandomForestClassifier(), parameters: {'estimator__max_depth': [3, 5, 7, 9, 11], 'estimator__criterion': ['gini', 'entropy', 'log_loss']}, Scaler: MinMaxScaler()\n",
      "{'estimator__criterion': 'log_loss', 'estimator__max_depth': 9}\n",
      "              precision    recall  f1-score   support\n",
      "\n",
      "           0       0.98      0.96      0.97       179\n",
      "           1       0.68      0.81      0.74        21\n",
      "\n",
      "    accuracy                           0.94       200\n",
      "   macro avg       0.83      0.88      0.85       200\n",
      "weighted avg       0.95      0.94      0.94       200\n",
      "\n"
     ]
    },
    {
     "name": "stderr",
     "output_type": "stream",
     "text": [
      "\n",
      "\u001b[A\n",
      "\u001b[A"
     ]
    },
    {
     "name": "stdout",
     "output_type": "stream",
     "text": [
      "Estimator: RandomForestClassifier(), parameters: {'estimator__max_depth': [3, 5, 7, 9, 11], 'estimator__criterion': ['gini', 'entropy', 'log_loss']}, Scaler: MinMaxScaler()\n",
      "{'estimator__criterion': 'gini', 'estimator__max_depth': 11}\n",
      "              precision    recall  f1-score   support\n",
      "\n",
      "           0       0.98      0.87      0.92       179\n",
      "           1       0.43      0.86      0.57        21\n",
      "\n",
      "    accuracy                           0.86       200\n",
      "   macro avg       0.70      0.86      0.75       200\n",
      "weighted avg       0.92      0.86      0.88       200\n",
      "\n"
     ]
    },
    {
     "name": "stderr",
     "output_type": "stream",
     "text": [
      "\n",
      "\u001b[A\n",
      "\u001b[A"
     ]
    },
    {
     "name": "stdout",
     "output_type": "stream",
     "text": [
      "Estimator: RandomForestClassifier(), parameters: {'estimator__max_depth': [3, 5, 7, 9, 11], 'estimator__criterion': ['gini', 'entropy', 'log_loss']}, Scaler: RobustScaler()\n",
      "{'estimator__criterion': 'log_loss', 'estimator__max_depth': 11}\n",
      "              precision    recall  f1-score   support\n",
      "\n",
      "           0       0.97      0.97      0.97       179\n",
      "           1       0.73      0.76      0.74        21\n",
      "\n",
      "    accuracy                           0.94       200\n",
      "   macro avg       0.85      0.86      0.86       200\n",
      "weighted avg       0.95      0.94      0.95       200\n",
      "\n"
     ]
    },
    {
     "name": "stderr",
     "output_type": "stream",
     "text": [
      "\n",
      "\u001b[A\n",
      "\u001b[A"
     ]
    },
    {
     "name": "stdout",
     "output_type": "stream",
     "text": [
      "Estimator: RandomForestClassifier(), parameters: {'estimator__max_depth': [3, 5, 7, 9, 11], 'estimator__criterion': ['gini', 'entropy', 'log_loss']}, Scaler: RobustScaler()\n",
      "{'estimator__criterion': 'gini', 'estimator__max_depth': 5}\n",
      "              precision    recall  f1-score   support\n",
      "\n",
      "           0       0.99      0.87      0.92       179\n",
      "           1       0.44      0.90      0.59        21\n",
      "\n",
      "    accuracy                           0.87       200\n",
      "   macro avg       0.71      0.89      0.76       200\n",
      "weighted avg       0.93      0.87      0.89       200\n",
      "\n"
     ]
    },
    {
     "name": "stderr",
     "output_type": "stream",
     "text": [
      "\n",
      "\u001b[A\n",
      "\u001b[A"
     ]
    },
    {
     "name": "stdout",
     "output_type": "stream",
     "text": [
      "Estimator: RandomForestClassifier(), parameters: {'estimator__max_depth': [3, 5, 7, 9, 11], 'estimator__criterion': ['gini', 'entropy', 'log_loss']}, Scaler: MaxAbsScaler()\n",
      "{'estimator__criterion': 'log_loss', 'estimator__max_depth': 7}\n",
      "              precision    recall  f1-score   support\n",
      "\n",
      "           0       0.98      0.93      0.95       179\n",
      "           1       0.58      0.86      0.69        21\n",
      "\n",
      "    accuracy                           0.92       200\n",
      "   macro avg       0.78      0.89      0.82       200\n",
      "weighted avg       0.94      0.92      0.93       200\n",
      "\n"
     ]
    },
    {
     "name": "stderr",
     "output_type": "stream",
     "text": [
      "\n",
      "\u001b[A\n",
      "Estimators:  57%|█████▋    | 4/7 [02:10<02:26, 48.70s/it]"
     ]
    },
    {
     "name": "stdout",
     "output_type": "stream",
     "text": [
      "Estimator: RandomForestClassifier(), parameters: {'estimator__max_depth': [3, 5, 7, 9, 11], 'estimator__criterion': ['gini', 'entropy', 'log_loss']}, Scaler: MaxAbsScaler()\n",
      "{'estimator__criterion': 'gini', 'estimator__max_depth': 9}\n",
      "              precision    recall  f1-score   support\n",
      "\n",
      "           0       0.99      0.83      0.90       179\n",
      "           1       0.39      0.90      0.54        21\n",
      "\n",
      "    accuracy                           0.84       200\n",
      "   macro avg       0.69      0.87      0.72       200\n",
      "weighted avg       0.92      0.84      0.87       200\n",
      "\n"
     ]
    },
    {
     "name": "stderr",
     "output_type": "stream",
     "text": [
      "\n",
      "\u001b[A\n",
      "\u001b[A"
     ]
    },
    {
     "name": "stdout",
     "output_type": "stream",
     "text": [
      "Estimator: GaussianNB(), parameters: {'estimator__var_smoothing': [1e-09, 1e-08, 1e-07, 1e-06]}, Scaler: StandardScaler()\n",
      "{'estimator__var_smoothing': 1e-07}\n",
      "              precision    recall  f1-score   support\n",
      "\n",
      "           0       0.96      0.89      0.93       179\n",
      "           1       0.44      0.71      0.55        21\n",
      "\n",
      "    accuracy                           0.88       200\n",
      "   macro avg       0.70      0.80      0.74       200\n",
      "weighted avg       0.91      0.88      0.89       200\n",
      "\n"
     ]
    },
    {
     "name": "stderr",
     "output_type": "stream",
     "text": [
      "\n",
      "\u001b[A\n",
      "\u001b[A"
     ]
    },
    {
     "name": "stdout",
     "output_type": "stream",
     "text": [
      "Estimator: GaussianNB(), parameters: {'estimator__var_smoothing': [1e-09, 1e-08, 1e-07, 1e-06]}, Scaler: StandardScaler()\n",
      "{'estimator__var_smoothing': 1e-07}\n",
      "              precision    recall  f1-score   support\n",
      "\n",
      "           0       0.96      0.89      0.92       179\n",
      "           1       0.41      0.67      0.51        21\n",
      "\n",
      "    accuracy                           0.86       200\n",
      "   macro avg       0.68      0.78      0.72       200\n",
      "weighted avg       0.90      0.86      0.88       200\n",
      "\n"
     ]
    },
    {
     "name": "stderr",
     "output_type": "stream",
     "text": [
      "\n",
      "\u001b[A\n",
      "\u001b[A"
     ]
    },
    {
     "name": "stdout",
     "output_type": "stream",
     "text": [
      "Estimator: GaussianNB(), parameters: {'estimator__var_smoothing': [1e-09, 1e-08, 1e-07, 1e-06]}, Scaler: MinMaxScaler()\n",
      "{'estimator__var_smoothing': 1e-06}\n",
      "              precision    recall  f1-score   support\n",
      "\n",
      "           0       0.96      0.89      0.92       179\n",
      "           1       0.43      0.71      0.54        21\n",
      "\n",
      "    accuracy                           0.87       200\n",
      "   macro avg       0.70      0.80      0.73       200\n",
      "weighted avg       0.91      0.87      0.88       200\n",
      "\n"
     ]
    },
    {
     "name": "stderr",
     "output_type": "stream",
     "text": [
      "\n",
      "\u001b[A\n",
      "\u001b[A"
     ]
    },
    {
     "name": "stdout",
     "output_type": "stream",
     "text": [
      "Estimator: GaussianNB(), parameters: {'estimator__var_smoothing': [1e-09, 1e-08, 1e-07, 1e-06]}, Scaler: MinMaxScaler()\n",
      "{'estimator__var_smoothing': 1e-09}\n",
      "              precision    recall  f1-score   support\n",
      "\n",
      "           0       0.96      0.88      0.92       179\n",
      "           1       0.40      0.67      0.50        21\n",
      "\n",
      "    accuracy                           0.86       200\n",
      "   macro avg       0.68      0.77      0.71       200\n",
      "weighted avg       0.90      0.86      0.87       200\n",
      "\n"
     ]
    },
    {
     "name": "stderr",
     "output_type": "stream",
     "text": [
      "\n",
      "\u001b[A\n",
      "\u001b[A"
     ]
    },
    {
     "name": "stdout",
     "output_type": "stream",
     "text": [
      "Estimator: GaussianNB(), parameters: {'estimator__var_smoothing': [1e-09, 1e-08, 1e-07, 1e-06]}, Scaler: RobustScaler()\n",
      "{'estimator__var_smoothing': 1e-09}\n",
      "              precision    recall  f1-score   support\n",
      "\n",
      "           0       0.96      0.89      0.92       179\n",
      "           1       0.43      0.71      0.54        21\n",
      "\n",
      "    accuracy                           0.87       200\n",
      "   macro avg       0.70      0.80      0.73       200\n",
      "weighted avg       0.91      0.87      0.88       200\n",
      "\n"
     ]
    },
    {
     "name": "stderr",
     "output_type": "stream",
     "text": [
      "\n",
      "\u001b[A\n",
      "\u001b[A"
     ]
    },
    {
     "name": "stdout",
     "output_type": "stream",
     "text": [
      "Estimator: GaussianNB(), parameters: {'estimator__var_smoothing': [1e-09, 1e-08, 1e-07, 1e-06]}, Scaler: RobustScaler()\n",
      "{'estimator__var_smoothing': 1e-07}\n",
      "              precision    recall  f1-score   support\n",
      "\n",
      "           0       0.96      0.88      0.92       179\n",
      "           1       0.41      0.71      0.52        21\n",
      "\n",
      "    accuracy                           0.86       200\n",
      "   macro avg       0.68      0.80      0.72       200\n",
      "weighted avg       0.90      0.86      0.88       200\n",
      "\n"
     ]
    },
    {
     "name": "stderr",
     "output_type": "stream",
     "text": [
      "\n",
      "\u001b[A\n",
      "\u001b[A"
     ]
    },
    {
     "name": "stdout",
     "output_type": "stream",
     "text": [
      "Estimator: GaussianNB(), parameters: {'estimator__var_smoothing': [1e-09, 1e-08, 1e-07, 1e-06]}, Scaler: MaxAbsScaler()\n",
      "{'estimator__var_smoothing': 1e-09}\n",
      "              precision    recall  f1-score   support\n",
      "\n",
      "           0       0.96      0.89      0.93       179\n",
      "           1       0.44      0.71      0.55        21\n",
      "\n",
      "    accuracy                           0.88       200\n",
      "   macro avg       0.70      0.80      0.74       200\n",
      "weighted avg       0.91      0.88      0.89       200\n",
      "\n"
     ]
    },
    {
     "name": "stderr",
     "output_type": "stream",
     "text": [
      "\n",
      "\u001b[A\n",
      "Estimators:  71%|███████▏  | 5/7 [02:14<01:04, 32.39s/it]"
     ]
    },
    {
     "name": "stdout",
     "output_type": "stream",
     "text": [
      "Estimator: GaussianNB(), parameters: {'estimator__var_smoothing': [1e-09, 1e-08, 1e-07, 1e-06]}, Scaler: MaxAbsScaler()\n",
      "{'estimator__var_smoothing': 1e-07}\n",
      "              precision    recall  f1-score   support\n",
      "\n",
      "           0       0.96      0.89      0.92       179\n",
      "           1       0.43      0.71      0.54        21\n",
      "\n",
      "    accuracy                           0.87       200\n",
      "   macro avg       0.70      0.80      0.73       200\n",
      "weighted avg       0.91      0.87      0.88       200\n",
      "\n"
     ]
    },
    {
     "name": "stderr",
     "output_type": "stream",
     "text": [
      "\n",
      "\u001b[A/Users/jonas/mambaforge/envs/MMDS/lib/python3.10/site-packages/sklearn/neural_network/_multilayer_perceptron.py:686: ConvergenceWarning: Stochastic Optimizer: Maximum iterations (200) reached and the optimization hasn't converged yet.\n",
      "  warnings.warn(\n",
      "/Users/jonas/mambaforge/envs/MMDS/lib/python3.10/site-packages/sklearn/neural_network/_multilayer_perceptron.py:686: ConvergenceWarning: Stochastic Optimizer: Maximum iterations (200) reached and the optimization hasn't converged yet.\n",
      "  warnings.warn(\n",
      "/Users/jonas/mambaforge/envs/MMDS/lib/python3.10/site-packages/sklearn/neural_network/_multilayer_perceptron.py:686: ConvergenceWarning: Stochastic Optimizer: Maximum iterations (200) reached and the optimization hasn't converged yet.\n",
      "  warnings.warn(\n",
      "/Users/jonas/mambaforge/envs/MMDS/lib/python3.10/site-packages/sklearn/neural_network/_multilayer_perceptron.py:686: ConvergenceWarning: Stochastic Optimizer: Maximum iterations (200) reached and the optimization hasn't converged yet.\n",
      "  warnings.warn(\n",
      "/Users/jonas/mambaforge/envs/MMDS/lib/python3.10/site-packages/sklearn/neural_network/_multilayer_perceptron.py:686: ConvergenceWarning: Stochastic Optimizer: Maximum iterations (200) reached and the optimization hasn't converged yet.\n",
      "  warnings.warn(\n",
      "/Users/jonas/mambaforge/envs/MMDS/lib/python3.10/site-packages/sklearn/neural_network/_multilayer_perceptron.py:686: ConvergenceWarning: Stochastic Optimizer: Maximum iterations (200) reached and the optimization hasn't converged yet.\n",
      "  warnings.warn(\n",
      "\n",
      "\u001b[A/Users/jonas/mambaforge/envs/MMDS/lib/python3.10/site-packages/sklearn/neural_network/_multilayer_perceptron.py:686: ConvergenceWarning: Stochastic Optimizer: Maximum iterations (200) reached and the optimization hasn't converged yet.\n",
      "  warnings.warn(\n"
     ]
    },
    {
     "name": "stdout",
     "output_type": "stream",
     "text": [
      "Estimator: MLPClassifier(), parameters: {}, Scaler: StandardScaler()\n",
      "{}\n",
      "              precision    recall  f1-score   support\n",
      "\n",
      "           0       0.98      0.94      0.96       179\n",
      "           1       0.61      0.81      0.69        21\n",
      "\n",
      "    accuracy                           0.93       200\n",
      "   macro avg       0.79      0.87      0.83       200\n",
      "weighted avg       0.94      0.93      0.93       200\n",
      "\n"
     ]
    },
    {
     "name": "stderr",
     "output_type": "stream",
     "text": [
      "/Users/jonas/mambaforge/envs/MMDS/lib/python3.10/site-packages/sklearn/neural_network/_multilayer_perceptron.py:686: ConvergenceWarning: Stochastic Optimizer: Maximum iterations (200) reached and the optimization hasn't converged yet.\n",
      "  warnings.warn(\n",
      "/Users/jonas/mambaforge/envs/MMDS/lib/python3.10/site-packages/sklearn/neural_network/_multilayer_perceptron.py:686: ConvergenceWarning: Stochastic Optimizer: Maximum iterations (200) reached and the optimization hasn't converged yet.\n",
      "  warnings.warn(\n",
      "/Users/jonas/mambaforge/envs/MMDS/lib/python3.10/site-packages/sklearn/neural_network/_multilayer_perceptron.py:686: ConvergenceWarning: Stochastic Optimizer: Maximum iterations (200) reached and the optimization hasn't converged yet.\n",
      "  warnings.warn(\n",
      "/Users/jonas/mambaforge/envs/MMDS/lib/python3.10/site-packages/sklearn/neural_network/_multilayer_perceptron.py:686: ConvergenceWarning: Stochastic Optimizer: Maximum iterations (200) reached and the optimization hasn't converged yet.\n",
      "  warnings.warn(\n",
      "/Users/jonas/mambaforge/envs/MMDS/lib/python3.10/site-packages/sklearn/neural_network/_multilayer_perceptron.py:686: ConvergenceWarning: Stochastic Optimizer: Maximum iterations (200) reached and the optimization hasn't converged yet.\n",
      "  warnings.warn(\n",
      "\n",
      "\u001b[A\n",
      "\u001b[A"
     ]
    },
    {
     "name": "stdout",
     "output_type": "stream",
     "text": [
      "Estimator: MLPClassifier(), parameters: {}, Scaler: StandardScaler()\n",
      "{}\n",
      "              precision    recall  f1-score   support\n",
      "\n",
      "           0       0.99      0.85      0.92       179\n",
      "           1       0.42      0.90      0.58        21\n",
      "\n",
      "    accuracy                           0.86       200\n",
      "   macro avg       0.70      0.88      0.75       200\n",
      "weighted avg       0.93      0.86      0.88       200\n",
      "\n"
     ]
    },
    {
     "name": "stderr",
     "output_type": "stream",
     "text": [
      "\n",
      "\u001b[A/Users/jonas/mambaforge/envs/MMDS/lib/python3.10/site-packages/sklearn/neural_network/_multilayer_perceptron.py:686: ConvergenceWarning: Stochastic Optimizer: Maximum iterations (200) reached and the optimization hasn't converged yet.\n",
      "  warnings.warn(\n",
      "/Users/jonas/mambaforge/envs/MMDS/lib/python3.10/site-packages/sklearn/neural_network/_multilayer_perceptron.py:686: ConvergenceWarning: Stochastic Optimizer: Maximum iterations (200) reached and the optimization hasn't converged yet.\n",
      "  warnings.warn(\n",
      "/Users/jonas/mambaforge/envs/MMDS/lib/python3.10/site-packages/sklearn/neural_network/_multilayer_perceptron.py:686: ConvergenceWarning: Stochastic Optimizer: Maximum iterations (200) reached and the optimization hasn't converged yet.\n",
      "  warnings.warn(\n",
      "/Users/jonas/mambaforge/envs/MMDS/lib/python3.10/site-packages/sklearn/neural_network/_multilayer_perceptron.py:686: ConvergenceWarning: Stochastic Optimizer: Maximum iterations (200) reached and the optimization hasn't converged yet.\n",
      "  warnings.warn(\n",
      "/Users/jonas/mambaforge/envs/MMDS/lib/python3.10/site-packages/sklearn/neural_network/_multilayer_perceptron.py:686: ConvergenceWarning: Stochastic Optimizer: Maximum iterations (200) reached and the optimization hasn't converged yet.\n",
      "  warnings.warn(\n",
      "/Users/jonas/mambaforge/envs/MMDS/lib/python3.10/site-packages/sklearn/neural_network/_multilayer_perceptron.py:686: ConvergenceWarning: Stochastic Optimizer: Maximum iterations (200) reached and the optimization hasn't converged yet.\n",
      "  warnings.warn(\n",
      "\n",
      "\u001b[A/Users/jonas/mambaforge/envs/MMDS/lib/python3.10/site-packages/sklearn/neural_network/_multilayer_perceptron.py:686: ConvergenceWarning: Stochastic Optimizer: Maximum iterations (200) reached and the optimization hasn't converged yet.\n",
      "  warnings.warn(\n"
     ]
    },
    {
     "name": "stdout",
     "output_type": "stream",
     "text": [
      "Estimator: MLPClassifier(), parameters: {}, Scaler: MinMaxScaler()\n",
      "{}\n",
      "              precision    recall  f1-score   support\n",
      "\n",
      "           0       0.98      0.90      0.94       179\n",
      "           1       0.49      0.81      0.61        21\n",
      "\n",
      "    accuracy                           0.89       200\n",
      "   macro avg       0.73      0.85      0.77       200\n",
      "weighted avg       0.92      0.89      0.90       200\n",
      "\n"
     ]
    },
    {
     "name": "stderr",
     "output_type": "stream",
     "text": [
      "/Users/jonas/mambaforge/envs/MMDS/lib/python3.10/site-packages/sklearn/neural_network/_multilayer_perceptron.py:686: ConvergenceWarning: Stochastic Optimizer: Maximum iterations (200) reached and the optimization hasn't converged yet.\n",
      "  warnings.warn(\n",
      "/Users/jonas/mambaforge/envs/MMDS/lib/python3.10/site-packages/sklearn/neural_network/_multilayer_perceptron.py:686: ConvergenceWarning: Stochastic Optimizer: Maximum iterations (200) reached and the optimization hasn't converged yet.\n",
      "  warnings.warn(\n",
      "/Users/jonas/mambaforge/envs/MMDS/lib/python3.10/site-packages/sklearn/neural_network/_multilayer_perceptron.py:686: ConvergenceWarning: Stochastic Optimizer: Maximum iterations (200) reached and the optimization hasn't converged yet.\n",
      "  warnings.warn(\n",
      "/Users/jonas/mambaforge/envs/MMDS/lib/python3.10/site-packages/sklearn/neural_network/_multilayer_perceptron.py:686: ConvergenceWarning: Stochastic Optimizer: Maximum iterations (200) reached and the optimization hasn't converged yet.\n",
      "  warnings.warn(\n",
      "/Users/jonas/mambaforge/envs/MMDS/lib/python3.10/site-packages/sklearn/neural_network/_multilayer_perceptron.py:686: ConvergenceWarning: Stochastic Optimizer: Maximum iterations (200) reached and the optimization hasn't converged yet.\n",
      "  warnings.warn(\n",
      "\n",
      "\u001b[A\n",
      "\u001b[A"
     ]
    },
    {
     "name": "stdout",
     "output_type": "stream",
     "text": [
      "Estimator: MLPClassifier(), parameters: {}, Scaler: MinMaxScaler()\n",
      "{}\n",
      "              precision    recall  f1-score   support\n",
      "\n",
      "           0       0.99      0.85      0.91       179\n",
      "           1       0.41      0.90      0.57        21\n",
      "\n",
      "    accuracy                           0.85       200\n",
      "   macro avg       0.70      0.88      0.74       200\n",
      "weighted avg       0.93      0.85      0.88       200\n",
      "\n"
     ]
    },
    {
     "name": "stderr",
     "output_type": "stream",
     "text": [
      "\n",
      "\u001b[A/Users/jonas/mambaforge/envs/MMDS/lib/python3.10/site-packages/sklearn/neural_network/_multilayer_perceptron.py:686: ConvergenceWarning: Stochastic Optimizer: Maximum iterations (200) reached and the optimization hasn't converged yet.\n",
      "  warnings.warn(\n",
      "/Users/jonas/mambaforge/envs/MMDS/lib/python3.10/site-packages/sklearn/neural_network/_multilayer_perceptron.py:686: ConvergenceWarning: Stochastic Optimizer: Maximum iterations (200) reached and the optimization hasn't converged yet.\n",
      "  warnings.warn(\n",
      "/Users/jonas/mambaforge/envs/MMDS/lib/python3.10/site-packages/sklearn/neural_network/_multilayer_perceptron.py:686: ConvergenceWarning: Stochastic Optimizer: Maximum iterations (200) reached and the optimization hasn't converged yet.\n",
      "  warnings.warn(\n",
      "/Users/jonas/mambaforge/envs/MMDS/lib/python3.10/site-packages/sklearn/neural_network/_multilayer_perceptron.py:686: ConvergenceWarning: Stochastic Optimizer: Maximum iterations (200) reached and the optimization hasn't converged yet.\n",
      "  warnings.warn(\n",
      "/Users/jonas/mambaforge/envs/MMDS/lib/python3.10/site-packages/sklearn/neural_network/_multilayer_perceptron.py:686: ConvergenceWarning: Stochastic Optimizer: Maximum iterations (200) reached and the optimization hasn't converged yet.\n",
      "  warnings.warn(\n",
      "/Users/jonas/mambaforge/envs/MMDS/lib/python3.10/site-packages/sklearn/neural_network/_multilayer_perceptron.py:686: ConvergenceWarning: Stochastic Optimizer: Maximum iterations (200) reached and the optimization hasn't converged yet.\n",
      "  warnings.warn(\n",
      "\n",
      "\u001b[A/Users/jonas/mambaforge/envs/MMDS/lib/python3.10/site-packages/sklearn/neural_network/_multilayer_perceptron.py:686: ConvergenceWarning: Stochastic Optimizer: Maximum iterations (200) reached and the optimization hasn't converged yet.\n",
      "  warnings.warn(\n"
     ]
    },
    {
     "name": "stdout",
     "output_type": "stream",
     "text": [
      "Estimator: MLPClassifier(), parameters: {}, Scaler: RobustScaler()\n",
      "{}\n",
      "              precision    recall  f1-score   support\n",
      "\n",
      "           0       0.98      0.92      0.95       179\n",
      "           1       0.55      0.86      0.67        21\n",
      "\n",
      "    accuracy                           0.91       200\n",
      "   macro avg       0.76      0.89      0.81       200\n",
      "weighted avg       0.94      0.91      0.92       200\n",
      "\n"
     ]
    },
    {
     "name": "stderr",
     "output_type": "stream",
     "text": [
      "/Users/jonas/mambaforge/envs/MMDS/lib/python3.10/site-packages/sklearn/neural_network/_multilayer_perceptron.py:686: ConvergenceWarning: Stochastic Optimizer: Maximum iterations (200) reached and the optimization hasn't converged yet.\n",
      "  warnings.warn(\n",
      "/Users/jonas/mambaforge/envs/MMDS/lib/python3.10/site-packages/sklearn/neural_network/_multilayer_perceptron.py:686: ConvergenceWarning: Stochastic Optimizer: Maximum iterations (200) reached and the optimization hasn't converged yet.\n",
      "  warnings.warn(\n",
      "/Users/jonas/mambaforge/envs/MMDS/lib/python3.10/site-packages/sklearn/neural_network/_multilayer_perceptron.py:686: ConvergenceWarning: Stochastic Optimizer: Maximum iterations (200) reached and the optimization hasn't converged yet.\n",
      "  warnings.warn(\n",
      "/Users/jonas/mambaforge/envs/MMDS/lib/python3.10/site-packages/sklearn/neural_network/_multilayer_perceptron.py:686: ConvergenceWarning: Stochastic Optimizer: Maximum iterations (200) reached and the optimization hasn't converged yet.\n",
      "  warnings.warn(\n",
      "/Users/jonas/mambaforge/envs/MMDS/lib/python3.10/site-packages/sklearn/neural_network/_multilayer_perceptron.py:686: ConvergenceWarning: Stochastic Optimizer: Maximum iterations (200) reached and the optimization hasn't converged yet.\n",
      "  warnings.warn(\n",
      "\n",
      "\u001b[A\n",
      "\u001b[A"
     ]
    },
    {
     "name": "stdout",
     "output_type": "stream",
     "text": [
      "Estimator: MLPClassifier(), parameters: {}, Scaler: RobustScaler()\n",
      "{}\n",
      "              precision    recall  f1-score   support\n",
      "\n",
      "           0       0.98      0.87      0.92       179\n",
      "           1       0.43      0.86      0.57        21\n",
      "\n",
      "    accuracy                           0.86       200\n",
      "   macro avg       0.70      0.86      0.75       200\n",
      "weighted avg       0.92      0.86      0.88       200\n",
      "\n"
     ]
    },
    {
     "name": "stderr",
     "output_type": "stream",
     "text": [
      "\n",
      "\u001b[A/Users/jonas/mambaforge/envs/MMDS/lib/python3.10/site-packages/sklearn/neural_network/_multilayer_perceptron.py:686: ConvergenceWarning: Stochastic Optimizer: Maximum iterations (200) reached and the optimization hasn't converged yet.\n",
      "  warnings.warn(\n",
      "/Users/jonas/mambaforge/envs/MMDS/lib/python3.10/site-packages/sklearn/neural_network/_multilayer_perceptron.py:686: ConvergenceWarning: Stochastic Optimizer: Maximum iterations (200) reached and the optimization hasn't converged yet.\n",
      "  warnings.warn(\n",
      "/Users/jonas/mambaforge/envs/MMDS/lib/python3.10/site-packages/sklearn/neural_network/_multilayer_perceptron.py:686: ConvergenceWarning: Stochastic Optimizer: Maximum iterations (200) reached and the optimization hasn't converged yet.\n",
      "  warnings.warn(\n",
      "/Users/jonas/mambaforge/envs/MMDS/lib/python3.10/site-packages/sklearn/neural_network/_multilayer_perceptron.py:686: ConvergenceWarning: Stochastic Optimizer: Maximum iterations (200) reached and the optimization hasn't converged yet.\n",
      "  warnings.warn(\n",
      "/Users/jonas/mambaforge/envs/MMDS/lib/python3.10/site-packages/sklearn/neural_network/_multilayer_perceptron.py:686: ConvergenceWarning: Stochastic Optimizer: Maximum iterations (200) reached and the optimization hasn't converged yet.\n",
      "  warnings.warn(\n",
      "/Users/jonas/mambaforge/envs/MMDS/lib/python3.10/site-packages/sklearn/neural_network/_multilayer_perceptron.py:686: ConvergenceWarning: Stochastic Optimizer: Maximum iterations (200) reached and the optimization hasn't converged yet.\n",
      "  warnings.warn(\n",
      "\n",
      "\u001b[A/Users/jonas/mambaforge/envs/MMDS/lib/python3.10/site-packages/sklearn/neural_network/_multilayer_perceptron.py:686: ConvergenceWarning: Stochastic Optimizer: Maximum iterations (200) reached and the optimization hasn't converged yet.\n",
      "  warnings.warn(\n"
     ]
    },
    {
     "name": "stdout",
     "output_type": "stream",
     "text": [
      "Estimator: MLPClassifier(), parameters: {}, Scaler: MaxAbsScaler()\n",
      "{}\n",
      "              precision    recall  f1-score   support\n",
      "\n",
      "           0       0.98      0.89      0.93       179\n",
      "           1       0.46      0.81      0.59        21\n",
      "\n",
      "    accuracy                           0.88       200\n",
      "   macro avg       0.72      0.85      0.76       200\n",
      "weighted avg       0.92      0.88      0.89       200\n",
      "\n"
     ]
    },
    {
     "name": "stderr",
     "output_type": "stream",
     "text": [
      "/Users/jonas/mambaforge/envs/MMDS/lib/python3.10/site-packages/sklearn/neural_network/_multilayer_perceptron.py:686: ConvergenceWarning: Stochastic Optimizer: Maximum iterations (200) reached and the optimization hasn't converged yet.\n",
      "  warnings.warn(\n",
      "/Users/jonas/mambaforge/envs/MMDS/lib/python3.10/site-packages/sklearn/neural_network/_multilayer_perceptron.py:686: ConvergenceWarning: Stochastic Optimizer: Maximum iterations (200) reached and the optimization hasn't converged yet.\n",
      "  warnings.warn(\n",
      "/Users/jonas/mambaforge/envs/MMDS/lib/python3.10/site-packages/sklearn/neural_network/_multilayer_perceptron.py:686: ConvergenceWarning: Stochastic Optimizer: Maximum iterations (200) reached and the optimization hasn't converged yet.\n",
      "  warnings.warn(\n",
      "/Users/jonas/mambaforge/envs/MMDS/lib/python3.10/site-packages/sklearn/neural_network/_multilayer_perceptron.py:686: ConvergenceWarning: Stochastic Optimizer: Maximum iterations (200) reached and the optimization hasn't converged yet.\n",
      "  warnings.warn(\n",
      "/Users/jonas/mambaforge/envs/MMDS/lib/python3.10/site-packages/sklearn/neural_network/_multilayer_perceptron.py:686: ConvergenceWarning: Stochastic Optimizer: Maximum iterations (200) reached and the optimization hasn't converged yet.\n",
      "  warnings.warn(\n",
      "\n",
      "\u001b[A\n",
      "Estimators:  86%|████████▌ | 6/7 [02:32<00:27, 27.63s/it]"
     ]
    },
    {
     "name": "stdout",
     "output_type": "stream",
     "text": [
      "Estimator: MLPClassifier(), parameters: {}, Scaler: MaxAbsScaler()\n",
      "{}\n",
      "              precision    recall  f1-score   support\n",
      "\n",
      "           0       0.99      0.80      0.89       179\n",
      "           1       0.35      0.90      0.51        21\n",
      "\n",
      "    accuracy                           0.81       200\n",
      "   macro avg       0.67      0.85      0.70       200\n",
      "weighted avg       0.92      0.81      0.85       200\n",
      "\n"
     ]
    },
    {
     "name": "stderr",
     "output_type": "stream",
     "text": [
      "\n",
      "\u001b[A\n",
      "\u001b[A"
     ]
    },
    {
     "name": "stdout",
     "output_type": "stream",
     "text": [
      "Estimator: GradientBoostingClassifier(), parameters: {'estimator__n_estimators': [100, 200, 300, 400, 500]}, Scaler: StandardScaler()\n",
      "{'estimator__n_estimators': 500}\n",
      "              precision    recall  f1-score   support\n",
      "\n",
      "           0       0.97      0.98      0.97       179\n",
      "           1       0.79      0.71      0.75        21\n",
      "\n",
      "    accuracy                           0.95       200\n",
      "   macro avg       0.88      0.85      0.86       200\n",
      "weighted avg       0.95      0.95      0.95       200\n",
      "\n"
     ]
    },
    {
     "name": "stderr",
     "output_type": "stream",
     "text": [
      "\n",
      "\u001b[A\n",
      "\u001b[A"
     ]
    },
    {
     "name": "stdout",
     "output_type": "stream",
     "text": [
      "Estimator: GradientBoostingClassifier(), parameters: {'estimator__n_estimators': [100, 200, 300, 400, 500]}, Scaler: StandardScaler()\n",
      "{'estimator__n_estimators': 400}\n",
      "              precision    recall  f1-score   support\n",
      "\n",
      "           0       0.99      0.81      0.89       179\n",
      "           1       0.36      0.90      0.51        21\n",
      "\n",
      "    accuracy                           0.82       200\n",
      "   macro avg       0.67      0.86      0.70       200\n",
      "weighted avg       0.92      0.82      0.85       200\n",
      "\n"
     ]
    },
    {
     "name": "stderr",
     "output_type": "stream",
     "text": [
      "\n",
      "\u001b[A\n",
      "\u001b[A"
     ]
    },
    {
     "name": "stdout",
     "output_type": "stream",
     "text": [
      "Estimator: GradientBoostingClassifier(), parameters: {'estimator__n_estimators': [100, 200, 300, 400, 500]}, Scaler: MinMaxScaler()\n",
      "{'estimator__n_estimators': 200}\n",
      "              precision    recall  f1-score   support\n",
      "\n",
      "           0       0.97      0.96      0.96       179\n",
      "           1       0.67      0.76      0.71        21\n",
      "\n",
      "    accuracy                           0.94       200\n",
      "   macro avg       0.82      0.86      0.84       200\n",
      "weighted avg       0.94      0.94      0.94       200\n",
      "\n"
     ]
    },
    {
     "name": "stderr",
     "output_type": "stream",
     "text": [
      "\n",
      "\u001b[A\n",
      "\u001b[A"
     ]
    },
    {
     "name": "stdout",
     "output_type": "stream",
     "text": [
      "Estimator: GradientBoostingClassifier(), parameters: {'estimator__n_estimators': [100, 200, 300, 400, 500]}, Scaler: MinMaxScaler()\n",
      "{'estimator__n_estimators': 100}\n",
      "              precision    recall  f1-score   support\n",
      "\n",
      "           0       0.99      0.87      0.93       179\n",
      "           1       0.45      0.90      0.60        21\n",
      "\n",
      "    accuracy                           0.88       200\n",
      "   macro avg       0.72      0.89      0.76       200\n",
      "weighted avg       0.93      0.88      0.89       200\n",
      "\n"
     ]
    },
    {
     "name": "stderr",
     "output_type": "stream",
     "text": [
      "\n",
      "\u001b[A\n",
      "\u001b[A"
     ]
    },
    {
     "name": "stdout",
     "output_type": "stream",
     "text": [
      "Estimator: GradientBoostingClassifier(), parameters: {'estimator__n_estimators': [100, 200, 300, 400, 500]}, Scaler: RobustScaler()\n",
      "{'estimator__n_estimators': 300}\n",
      "              precision    recall  f1-score   support\n",
      "\n",
      "           0       0.97      0.98      0.97       179\n",
      "           1       0.80      0.76      0.78        21\n",
      "\n",
      "    accuracy                           0.95       200\n",
      "   macro avg       0.89      0.87      0.88       200\n",
      "weighted avg       0.95      0.95      0.95       200\n",
      "\n"
     ]
    },
    {
     "name": "stderr",
     "output_type": "stream",
     "text": [
      "\n",
      "\u001b[A\n",
      "\u001b[A"
     ]
    },
    {
     "name": "stdout",
     "output_type": "stream",
     "text": [
      "Estimator: GradientBoostingClassifier(), parameters: {'estimator__n_estimators': [100, 200, 300, 400, 500]}, Scaler: RobustScaler()\n",
      "{'estimator__n_estimators': 200}\n",
      "              precision    recall  f1-score   support\n",
      "\n",
      "           0       0.98      0.91      0.94       179\n",
      "           1       0.51      0.86      0.64        21\n",
      "\n",
      "    accuracy                           0.90       200\n",
      "   macro avg       0.75      0.88      0.79       200\n",
      "weighted avg       0.93      0.90      0.91       200\n",
      "\n"
     ]
    },
    {
     "name": "stderr",
     "output_type": "stream",
     "text": [
      "\n",
      "\u001b[A\n",
      "\u001b[A"
     ]
    },
    {
     "name": "stdout",
     "output_type": "stream",
     "text": [
      "Estimator: GradientBoostingClassifier(), parameters: {'estimator__n_estimators': [100, 200, 300, 400, 500]}, Scaler: MaxAbsScaler()\n",
      "{'estimator__n_estimators': 400}\n",
      "              precision    recall  f1-score   support\n",
      "\n",
      "           0       0.97      0.97      0.97       179\n",
      "           1       0.76      0.76      0.76        21\n",
      "\n",
      "    accuracy                           0.95       200\n",
      "   macro avg       0.87      0.87      0.87       200\n",
      "weighted avg       0.95      0.95      0.95       200\n",
      "\n"
     ]
    },
    {
     "name": "stderr",
     "output_type": "stream",
     "text": [
      "\n",
      "\u001b[A\n",
      "Estimators: 100%|██████████| 7/7 [03:44<00:00, 32.00s/it]"
     ]
    },
    {
     "name": "stdout",
     "output_type": "stream",
     "text": [
      "Estimator: GradientBoostingClassifier(), parameters: {'estimator__n_estimators': [100, 200, 300, 400, 500]}, Scaler: MaxAbsScaler()\n",
      "{'estimator__n_estimators': 500}\n",
      "              precision    recall  f1-score   support\n",
      "\n",
      "           0       0.99      0.86      0.92       179\n",
      "           1       0.43      0.90      0.58        21\n",
      "\n",
      "    accuracy                           0.86       200\n",
      "   macro avg       0.71      0.88      0.75       200\n",
      "weighted avg       0.93      0.86      0.88       200\n",
      "\n"
     ]
    },
    {
     "name": "stderr",
     "output_type": "stream",
     "text": [
      "\n"
     ]
    }
   ],
   "source": [
    "from imblearn.pipeline import Pipeline\n",
    "from imblearn.over_sampling import RandomOverSampler\n",
    "from imblearn.under_sampling import RandomUnderSampler\n",
    "from sklearn import preprocessing\n",
    "from sklearn.preprocessing import StandardScaler\n",
    "from sklearn.preprocessing import LabelEncoder, OneHotEncoder, OrdinalEncoder\n",
    "\n",
    "from sklearn.metrics import (\n",
    "    classification_report,\n",
    "    accuracy_score,\n",
    "    confusion_matrix,\n",
    "    f1_score,\n",
    "    precision_score,\n",
    "    recall_score,\n",
    "    roc_auc_score,\n",
    ")\n",
    "\n",
    "from sklearn.compose import ColumnTransformer\n",
    "from sklearn.model_selection import cross_val_predict\n",
    "from sklearn.preprocessing import StandardScaler, MinMaxScaler, RobustScaler, MaxAbsScaler\n",
    "from sklearn.model_selection import GridSearchCV\n",
    "from sklearn.model_selection import StratifiedKFold\n",
    "from sklearn.neighbors import KNeighborsClassifier\n",
    "from sklearn.linear_model import LogisticRegression\n",
    "from sklearn.tree import DecisionTreeClassifier\n",
    "from sklearn.ensemble import (\n",
    "    RandomForestClassifier,\n",
    "    GradientBoostingClassifier,\n",
    "    AdaBoostClassifier,\n",
    ")\n",
    "from sklearn.svm import SVC\n",
    "from sklearn.neural_network import MLPClassifier\n",
    "from sklearn.naive_bayes import GaussianNB\n",
    "\n",
    "from tqdm import tqdm\n",
    "\n",
    "numeric_features = [\n",
    "    \"age\",\n",
    "    \"bmi\",\n",
    "    \"HbA1c_level\",\n",
    "    \"blood_glucose_level\",\n",
    "]\n",
    "\n",
    "nominal_features = [\n",
    "    \"hypertension\",\n",
    "    \"heart_disease\",\n",
    "    \"gender\",\n",
    "]\n",
    "\n",
    "ordinal_features = [\n",
    "    \"smoking_history\",\n",
    "]\n",
    "\n",
    "# TODO: Add more estimators and hyperparameters\n",
    "estimators = [\n",
    "    {\n",
    "        \"estimator\": KNeighborsClassifier(),\n",
    "        \"parameters\": {\"estimator__n_neighbors\": [3, 5, 7, 9, 11]},\n",
    "    },\n",
    "    {\n",
    "        \"estimator\": LogisticRegression(max_iter=1000),\n",
    "        \"parameters\": {\"estimator__C\": [0.1, 1, 10, 100]},\n",
    "    },\n",
    "    {\n",
    "        \"estimator\": DecisionTreeClassifier(),\n",
    "        \"parameters\": {\"estimator__max_depth\": [3, 5, 7, 9, 11]},\n",
    "    },\n",
    "    {\n",
    "        \"estimator\": RandomForestClassifier(),\n",
    "        \"parameters\": {\n",
    "            \"estimator__max_depth\": [3, 5, 7, 9, 11],\n",
    "            \"estimator__criterion\": [\"gini\", \"entropy\", \"log_loss\"],\n",
    "        },\n",
    "    },\n",
    "    {\n",
    "        \"estimator\": GaussianNB(),\n",
    "        \"parameters\": {\"estimator__var_smoothing\": [1e-09, 1e-08, 1e-07, 1e-06]},\n",
    "    },\n",
    "    {\n",
    "        \"estimator\": MLPClassifier(),\n",
    "        \"parameters\": {},\n",
    "    },\n",
    "    {\n",
    "        \"estimator\": GradientBoostingClassifier(),\n",
    "        \"parameters\": {\"estimator__n_estimators\": [100, 200, 300, 400, 500]},\n",
    "    },\n",
    "]\n",
    "\n",
    "# TODO: Add more preprocessing options\n",
    "# TODO: Add imputer/ missing value handling\n",
    "scalers = {\n",
    "    \"StandardScaler\": StandardScaler(),\n",
    "    \"MinMaxScaler\": MinMaxScaler(),\n",
    "    \"RobustScaler\": RobustScaler(),\n",
    "    \"MaxAbsScaler\": MaxAbsScaler(),\n",
    "}\n",
    "\n",
    "samplers = {\n",
    "    \"OverSampler\": RandomOverSampler(),\n",
    "    \"UnderSampler\": RandomUnderSampler(),\n",
    "    # \"CombinedSampler\": SMOTEENN(random_state=0)\n",
    "}\n",
    "\n",
    "results=[]\n",
    "\n",
    "# Prepare data\n",
    "df = pd.read_csv(\"diabetes_prediction_dataset.csv\")\n",
    "X = df.drop(\"diabetes\", axis=1)\n",
    "y = df[\"diabetes\"]\n",
    "X = X.sample(frac=0.01, random_state=42)\n",
    "y = y.sample(frac=0.01, random_state=42)\n",
    "labeler = LabelEncoder()\n",
    "labeler.fit(y)\n",
    "y = labeler.transform(y)\n",
    "label_names = [\"Negative\", \"Positive\"]\n",
    "label_order = [0, 1]\n",
    "X_train, X_test, y_train, y_test = train_test_split(\n",
    "    X, y, test_size=0.2, random_state=42\n",
    ")\n",
    "\n",
    "\n",
    "for estimator in tqdm(estimators, desc=\"Estimators\"):\n",
    "    for scaler_name, scaler in tqdm(scalers.items(), desc=\"Scalers\", leave=False):\n",
    "        for sampler_name, sampler in tqdm(samplers.items(), desc=\"Samplers\", leave=False):\n",
    "\n",
    "            parameters = estimator.get(\"parameters\")\n",
    "\n",
    "            column_encoder = ColumnTransformer(\n",
    "                transformers=[\n",
    "                    (\"nom\", OneHotEncoder(), nominal_features),\n",
    "                    (\"ord\", OrdinalEncoder(), ordinal_features),\n",
    "                    (\"num\", scaler, numeric_features),\n",
    "                ]\n",
    "            )\n",
    "\n",
    "            pipeline = Pipeline(\n",
    "                [\n",
    "                    (\"encoder\", column_encoder),\n",
    "                    (\"balancing\", sampler),\n",
    "                    (\"estimator\", estimator.get(\"estimator\")),\n",
    "                ]\n",
    "            )\n",
    "\n",
    "            cv = StratifiedKFold(n_splits=5, shuffle=True, random_state=42)\n",
    "\n",
    "            # Grid search for best hyper-parameters\n",
    "            grid_search_estimator = GridSearchCV(\n",
    "                pipeline, parameters, cv=cv, scoring=\"f1_macro\"\n",
    "            )\n",
    "            grid_search_estimator.fit(X_train, y_train)\n",
    "\n",
    "            # Print estimator information\n",
    "            print(\n",
    "                f\"Estimator: {estimator.get('estimator')}, parameters: {parameters},\"\n",
    "                f\" Scaler: {scaler}\"\n",
    "            )\n",
    "\n",
    "            # Print best hyper-parameters\n",
    "            print(grid_search_estimator.best_params_)\n",
    "\n",
    "            # grid_search_estimator.fit(X_train, y_train)\n",
    "            prediction = grid_search_estimator.predict(X_test)\n",
    "\n",
    "            # Compute metrics\n",
    "            print(classification_report(y_test, prediction))\n",
    "\n",
    "            # TODO save output in a file for later analysis\n",
    "            results.append({\n",
    "                \"Estimator\": estimator.get(\"estimator\"),\n",
    "                \"parameters\": estimator.get(\"parameters\"),\n",
    "                \"Scaler\": scaler,\n",
    "                \"classfication report\": classification_report(y_test, prediction, output_dict=true)\n",
    "            }\n",
    "            )\n",
    "\n",
    "df = pd.DataFrame(results, columns=[\"Estimator\", \"Parameters\", \"Scaler\",\"classfication report\" ])\n",
    "df.to_csv(\"estimator_results.csv\", index=False)"
   ]
  },
  {
   "attachments": {},
   "cell_type": "markdown",
   "metadata": {},
   "source": [
    "# Evaluation"
   ]
  },
  {
   "cell_type": "code",
   "execution_count": null,
   "metadata": {},
   "outputs": [],
   "source": [
    "# TODO plot confusion matrix of best estimator\n",
    "\n",
    "# TODO plot ROC curve of best estimator\n"
   ]
  },
  {
   "attachments": {},
   "cell_type": "markdown",
   "metadata": {},
   "source": [
    "### Confusion Matrix"
   ]
  },
  {
   "attachments": {},
   "cell_type": "markdown",
   "metadata": {},
   "source": [
    "### ROC Curve + AUC"
   ]
  },
  {
   "attachments": {},
   "cell_type": "markdown",
   "metadata": {},
   "source": [
    "### Cost-based Evaluation"
   ]
  }
 ],
 "metadata": {
  "kernelspec": {
   "display_name": "MMDS",
   "language": "python",
   "name": "python3"
  },
  "language_info": {
   "codemirror_mode": {
    "name": "ipython",
    "version": 3
   },
   "file_extension": ".py",
   "mimetype": "text/x-python",
   "name": "python",
   "nbconvert_exporter": "python",
   "pygments_lexer": "ipython3",
   "version": "3.10.9"
  },
  "orig_nbformat": 4
 },
 "nbformat": 4,
 "nbformat_minor": 2
}
